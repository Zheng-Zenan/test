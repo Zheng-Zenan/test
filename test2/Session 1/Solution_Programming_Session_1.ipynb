{
 "cells": [
  {
   "cell_type": "markdown",
   "metadata": {
    "id": "zSIsUTeyXNr_"
   },
   "source": [
    "# **<center>Machine Learning and Finance </center>**\n",
    "\n",
    "\n",
    "## <center> Programming Session 1 - Handling Imbalanced datasets </center>\n",
    "\n",
    "<table class=\"tfo-notebook-buttons\" align=\"center\">\n",
    "  <td>\n",
    "    <a target=\"_blank\" href=\"https://hm-ai.github.io/MLF/\">\n",
    "    <img src=\"https://drive.google.com/uc?export=view&id=1gmxxmwCR1WXK0IYtNqvE4QXFleznWqQO\" height=\"50\"/>\n",
    "    Course page</a>\n",
    "</td>\n",
    "  <td>\n",
    "    <a target=\"_blank\" href=\"https://colab.research.google.com/drive/13gJd7uJeJgFDoF-pKRLWzo8A-9XsIRrO?usp=sharing\"><img src=\"https://www.tensorflow.org/images/colab_logo_32px.png\" height=\"50\" />Run in Google Colab</a>\n",
    "  </td>\n",
    "</table>"
   ]
  },
  {
   "cell_type": "markdown",
   "metadata": {
    "id": "ES_iLxf5k8iX"
   },
   "source": [
    "# Description of the programming session"
   ]
  },
  {
   "cell_type": "markdown",
   "metadata": {
    "id": "ImP0qoCUd7I1"
   },
   "source": [
    "In this programming session, we will deal with a **Fraud Detection** problem.\n",
    "\n",
    "* The dataset is composed of 10000 rows.\n",
    "* Each row contains 30 features which are the result of a PCA transformation. \n",
    "* Each feature vector is associated with a binary target: The target takes value 1 in case of a fraud and 0 otherwise. \n",
    "* The dataset is highly imbalanced since only 400 samples are associated with a target 1 (fraud). \n",
    "\n",
    "\n",
    "\n"
   ]
  },
  {
   "cell_type": "markdown",
   "metadata": {
    "id": "pFU9ckGplGDf"
   },
   "source": [
    "# Loading and visualizing the data "
   ]
  },
  {
   "cell_type": "markdown",
   "metadata": {
    "id": "yiqyU4DQlxsV"
   },
   "source": [
    "\n",
    "---\n",
    "<font color=green>Q1:</font>\n",
    "<br><font color='green'>\n",
    "Import the following modules:\n",
    "* `pandas` to manipulate dataframes\n",
    "* `seaborn` for fancy plots\n",
    "* `matplotlib.pyplot` for plots\n",
    "* `numpy` to manipulate arrays\n",
    "* `os` to specify your paths\n",
    "</font>\n",
    "\n",
    "---\n"
   ]
  },
  {
   "cell_type": "code",
   "execution_count": 1,
   "metadata": {
    "executionInfo": {
     "elapsed": 2141,
     "status": "ok",
     "timestamp": 1681811531588,
     "user": {
      "displayName": "Hachem Madmoun",
      "userId": "01826424375397677797"
     },
     "user_tz": -60
    },
    "id": "2aqGE_OGW_Yr"
   },
   "outputs": [],
   "source": [
    "import pandas as pd\n",
    "import seaborn as sns\n",
    "import matplotlib.pyplot as plt\n",
    "#plt.style.use('dark_background') # to adapt the colors to a dark background\n",
    "import numpy as np\n",
    "import os"
   ]
  },
  {
   "cell_type": "markdown",
   "metadata": {
    "id": "MB36cMCHmnt2"
   },
   "source": [
    "---\n",
    "<font color=green>Q2:</font>\n",
    "<br><font color='green'>\n",
    "[Only if you're using Colab]. Connect your colab to your drive to have access to the data.\n",
    "</font>\n",
    "\n",
    "---"
   ]
  },
  {
   "cell_type": "code",
   "execution_count": 2,
   "metadata": {
    "colab": {
     "base_uri": "https://localhost:8080/"
    },
    "executionInfo": {
     "elapsed": 24612,
     "status": "ok",
     "timestamp": 1681811556194,
     "user": {
      "displayName": "Hachem Madmoun",
      "userId": "01826424375397677797"
     },
     "user_tz": -60
    },
    "id": "9aO91Z5pw05-",
    "outputId": "cb90b8bb-82c6-4a81-f374-c8991ee3b9b8"
   },
   "outputs": [
    {
     "name": "stdout",
     "output_type": "stream",
     "text": [
      "Mounted at /content/gdrive\n"
     ]
    }
   ],
   "source": [
    "# Access files from Google Drive\n",
    "from google.colab import drive \n",
    "drive.mount('/content/gdrive')"
   ]
  },
  {
   "cell_type": "code",
   "execution_count": 2,
   "metadata": {
    "colab": {
     "base_uri": "https://localhost:8080/",
     "height": 35
    },
    "executionInfo": {
     "elapsed": 9,
     "status": "ok",
     "timestamp": 1681811556194,
     "user": {
      "displayName": "Hachem Madmoun",
      "userId": "01826424375397677797"
     },
     "user_tz": -60
    },
    "id": "-PxuyftVqjmz",
    "outputId": "7a91acd0-a31e-47d3-994c-63e09d9baa4b"
   },
   "outputs": [
    {
     "data": {
      "text/plain": [
       "'D:\\\\Quant_Test\\\\硕士\\\\Machine Learning in Finance\\\\Session 1'"
      ]
     },
     "execution_count": 2,
     "metadata": {},
     "output_type": "execute_result"
    }
   ],
   "source": [
    "os.getcwd()"
   ]
  },
  {
   "cell_type": "markdown",
   "metadata": {
    "id": "r1W9FPeWm7KF"
   },
   "source": [
    "---\n",
    "<font color=green>Q3:</font>\n",
    "<br><font color='green'>\n",
    "Change your current directory to be in the repository containing your data using: `os.chdir(<path to your data>)`\n",
    "</font>\n",
    "\n",
    "---"
   ]
  },
  {
   "cell_type": "code",
   "execution_count": 3,
   "metadata": {
    "executionInfo": {
     "elapsed": 877,
     "status": "ok",
     "timestamp": 1681811557064,
     "user": {
      "displayName": "Hachem Madmoun",
      "userId": "01826424375397677797"
     },
     "user_tz": -60
    },
    "id": "5HQjpsuXw08S"
   },
   "outputs": [],
   "source": [
    "os.chdir(r\"D:\\\\Quant_Test\\\\硕士\\\\Machine Learning in Finance\\\\Session 1\")"
   ]
  },
  {
   "cell_type": "markdown",
   "metadata": {
    "id": "O3xAawJ8nPbH"
   },
   "source": [
    "---\n",
    "<font color=green>Q4:</font>\n",
    "<br><font color='green'>\n",
    "Load the data using the command `pd.read_csv(<name of the csv file>, index_col=0)`\n",
    "</font>\n",
    "\n",
    "---"
   ]
  },
  {
   "cell_type": "code",
   "execution_count": 4,
   "metadata": {
    "executionInfo": {
     "elapsed": 1347,
     "status": "ok",
     "timestamp": 1681811558408,
     "user": {
      "displayName": "Hachem Madmoun",
      "userId": "01826424375397677797"
     },
     "user_tz": -60
    },
    "id": "CFmrHidaw0-r"
   },
   "outputs": [],
   "source": [
    "df = pd.read_csv(\"credit_data.csv\", index_col=0)"
   ]
  },
  {
   "cell_type": "code",
   "execution_count": 5,
   "metadata": {
    "colab": {
     "base_uri": "https://localhost:8080/",
     "height": 456
    },
    "executionInfo": {
     "elapsed": 385,
     "status": "ok",
     "timestamp": 1681811558791,
     "user": {
      "displayName": "Hachem Madmoun",
      "userId": "01826424375397677797"
     },
     "user_tz": -60
    },
    "id": "c05oGzgGzl_q",
    "outputId": "0fc82130-675e-4796-c071-8c25bdb10010"
   },
   "outputs": [
    {
     "data": {
      "text/html": [
       "<div>\n",
       "<style scoped>\n",
       "    .dataframe tbody tr th:only-of-type {\n",
       "        vertical-align: middle;\n",
       "    }\n",
       "\n",
       "    .dataframe tbody tr th {\n",
       "        vertical-align: top;\n",
       "    }\n",
       "\n",
       "    .dataframe thead th {\n",
       "        text-align: right;\n",
       "    }\n",
       "</style>\n",
       "<table border=\"1\" class=\"dataframe\">\n",
       "  <thead>\n",
       "    <tr style=\"text-align: right;\">\n",
       "      <th></th>\n",
       "      <th>feature_1</th>\n",
       "      <th>feature_2</th>\n",
       "      <th>feature_3</th>\n",
       "      <th>feature_4</th>\n",
       "      <th>feature_5</th>\n",
       "      <th>feature_6</th>\n",
       "      <th>feature_7</th>\n",
       "      <th>feature_8</th>\n",
       "      <th>feature_9</th>\n",
       "      <th>feature_10</th>\n",
       "      <th>...</th>\n",
       "      <th>feature_22</th>\n",
       "      <th>feature_23</th>\n",
       "      <th>feature_24</th>\n",
       "      <th>feature_25</th>\n",
       "      <th>feature_26</th>\n",
       "      <th>feature_27</th>\n",
       "      <th>feature_28</th>\n",
       "      <th>feature_29</th>\n",
       "      <th>feature_30</th>\n",
       "      <th>Class</th>\n",
       "    </tr>\n",
       "  </thead>\n",
       "  <tbody>\n",
       "    <tr>\n",
       "      <th>0</th>\n",
       "      <td>2.066860</td>\n",
       "      <td>-0.020046</td>\n",
       "      <td>-1.767555</td>\n",
       "      <td>0.733844</td>\n",
       "      <td>0.273100</td>\n",
       "      <td>-0.759437</td>\n",
       "      <td>0.030152</td>\n",
       "      <td>-0.196861</td>\n",
       "      <td>0.970792</td>\n",
       "      <td>-0.436721</td>\n",
       "      <td>...</td>\n",
       "      <td>0.134090</td>\n",
       "      <td>-0.044286</td>\n",
       "      <td>-0.711986</td>\n",
       "      <td>0.196494</td>\n",
       "      <td>0.499970</td>\n",
       "      <td>-0.038726</td>\n",
       "      <td>-0.045336</td>\n",
       "      <td>-0.181653</td>\n",
       "      <td>0.674808</td>\n",
       "      <td>0</td>\n",
       "    </tr>\n",
       "    <tr>\n",
       "      <th>1</th>\n",
       "      <td>-3.174988</td>\n",
       "      <td>2.565829</td>\n",
       "      <td>-1.166506</td>\n",
       "      <td>-2.662460</td>\n",
       "      <td>-0.563333</td>\n",
       "      <td>-1.758946</td>\n",
       "      <td>0.158992</td>\n",
       "      <td>1.060015</td>\n",
       "      <td>0.846993</td>\n",
       "      <td>0.084840</td>\n",
       "      <td>...</td>\n",
       "      <td>-0.933422</td>\n",
       "      <td>0.196827</td>\n",
       "      <td>-0.132664</td>\n",
       "      <td>0.321662</td>\n",
       "      <td>0.410302</td>\n",
       "      <td>0.403295</td>\n",
       "      <td>0.305377</td>\n",
       "      <td>-0.293440</td>\n",
       "      <td>0.035762</td>\n",
       "      <td>0</td>\n",
       "    </tr>\n",
       "    <tr>\n",
       "      <th>2</th>\n",
       "      <td>-1.358615</td>\n",
       "      <td>-0.694513</td>\n",
       "      <td>0.663246</td>\n",
       "      <td>-0.918161</td>\n",
       "      <td>2.429012</td>\n",
       "      <td>-0.748662</td>\n",
       "      <td>-0.137744</td>\n",
       "      <td>0.109871</td>\n",
       "      <td>1.414226</td>\n",
       "      <td>-1.288576</td>\n",
       "      <td>...</td>\n",
       "      <td>0.351336</td>\n",
       "      <td>-0.169299</td>\n",
       "      <td>0.187691</td>\n",
       "      <td>0.344757</td>\n",
       "      <td>0.024591</td>\n",
       "      <td>0.007354</td>\n",
       "      <td>0.141657</td>\n",
       "      <td>-0.261301</td>\n",
       "      <td>0.151694</td>\n",
       "      <td>0</td>\n",
       "    </tr>\n",
       "    <tr>\n",
       "      <th>3</th>\n",
       "      <td>-10.290219</td>\n",
       "      <td>-2.815842</td>\n",
       "      <td>-3.015308</td>\n",
       "      <td>0.670187</td>\n",
       "      <td>-0.323126</td>\n",
       "      <td>-0.012862</td>\n",
       "      <td>2.315149</td>\n",
       "      <td>-1.951854</td>\n",
       "      <td>2.914832</td>\n",
       "      <td>3.560149</td>\n",
       "      <td>...</td>\n",
       "      <td>-1.293607</td>\n",
       "      <td>-1.589622</td>\n",
       "      <td>0.994588</td>\n",
       "      <td>-1.024713</td>\n",
       "      <td>-0.792314</td>\n",
       "      <td>-3.596743</td>\n",
       "      <td>-2.944840</td>\n",
       "      <td>1.928596</td>\n",
       "      <td>0.525946</td>\n",
       "      <td>0</td>\n",
       "    </tr>\n",
       "    <tr>\n",
       "      <th>4</th>\n",
       "      <td>2.066360</td>\n",
       "      <td>-1.862311</td>\n",
       "      <td>-0.043096</td>\n",
       "      <td>-1.562647</td>\n",
       "      <td>-1.844436</td>\n",
       "      <td>0.263880</td>\n",
       "      <td>-1.849429</td>\n",
       "      <td>0.190699</td>\n",
       "      <td>-0.890452</td>\n",
       "      <td>1.594112</td>\n",
       "      <td>...</td>\n",
       "      <td>0.208154</td>\n",
       "      <td>0.313158</td>\n",
       "      <td>0.745770</td>\n",
       "      <td>-0.576860</td>\n",
       "      <td>-0.309670</td>\n",
       "      <td>0.047811</td>\n",
       "      <td>-0.020008</td>\n",
       "      <td>0.825683</td>\n",
       "      <td>0.416370</td>\n",
       "      <td>0</td>\n",
       "    </tr>\n",
       "    <tr>\n",
       "      <th>5</th>\n",
       "      <td>-1.837129</td>\n",
       "      <td>-0.860606</td>\n",
       "      <td>0.931402</td>\n",
       "      <td>-0.503311</td>\n",
       "      <td>-1.601545</td>\n",
       "      <td>-0.063339</td>\n",
       "      <td>-1.372122</td>\n",
       "      <td>1.010606</td>\n",
       "      <td>-1.067833</td>\n",
       "      <td>0.098599</td>\n",
       "      <td>...</td>\n",
       "      <td>1.208618</td>\n",
       "      <td>-0.385332</td>\n",
       "      <td>0.098418</td>\n",
       "      <td>-0.539129</td>\n",
       "      <td>-0.058342</td>\n",
       "      <td>0.079373</td>\n",
       "      <td>-0.311260</td>\n",
       "      <td>1.802557</td>\n",
       "      <td>-0.220926</td>\n",
       "      <td>0</td>\n",
       "    </tr>\n",
       "    <tr>\n",
       "      <th>6</th>\n",
       "      <td>-0.867614</td>\n",
       "      <td>0.399972</td>\n",
       "      <td>2.307767</td>\n",
       "      <td>-1.404864</td>\n",
       "      <td>-0.114899</td>\n",
       "      <td>-0.423631</td>\n",
       "      <td>0.303280</td>\n",
       "      <td>0.036647</td>\n",
       "      <td>-1.323148</td>\n",
       "      <td>-0.326257</td>\n",
       "      <td>...</td>\n",
       "      <td>-0.804946</td>\n",
       "      <td>-0.240922</td>\n",
       "      <td>-0.199841</td>\n",
       "      <td>0.442245</td>\n",
       "      <td>-0.723910</td>\n",
       "      <td>0.059379</td>\n",
       "      <td>0.071508</td>\n",
       "      <td>-0.175924</td>\n",
       "      <td>-0.086279</td>\n",
       "      <td>0</td>\n",
       "    </tr>\n",
       "    <tr>\n",
       "      <th>7</th>\n",
       "      <td>1.115158</td>\n",
       "      <td>-0.146839</td>\n",
       "      <td>1.371551</td>\n",
       "      <td>0.885772</td>\n",
       "      <td>-1.002526</td>\n",
       "      <td>-0.010030</td>\n",
       "      <td>-0.644337</td>\n",
       "      <td>0.147296</td>\n",
       "      <td>0.793339</td>\n",
       "      <td>-0.306381</td>\n",
       "      <td>...</td>\n",
       "      <td>0.165533</td>\n",
       "      <td>0.091804</td>\n",
       "      <td>0.456225</td>\n",
       "      <td>0.162527</td>\n",
       "      <td>0.323973</td>\n",
       "      <td>0.038653</td>\n",
       "      <td>0.028735</td>\n",
       "      <td>-0.178998</td>\n",
       "      <td>-0.146477</td>\n",
       "      <td>0</td>\n",
       "    </tr>\n",
       "    <tr>\n",
       "      <th>8</th>\n",
       "      <td>-0.812699</td>\n",
       "      <td>0.748278</td>\n",
       "      <td>0.787756</td>\n",
       "      <td>0.834942</td>\n",
       "      <td>0.939194</td>\n",
       "      <td>0.226452</td>\n",
       "      <td>0.287562</td>\n",
       "      <td>0.316810</td>\n",
       "      <td>-0.310771</td>\n",
       "      <td>0.427272</td>\n",
       "      <td>...</td>\n",
       "      <td>0.819531</td>\n",
       "      <td>-0.133640</td>\n",
       "      <td>-0.253254</td>\n",
       "      <td>-0.515717</td>\n",
       "      <td>-0.274483</td>\n",
       "      <td>0.652148</td>\n",
       "      <td>0.277662</td>\n",
       "      <td>-0.288130</td>\n",
       "      <td>-0.612331</td>\n",
       "      <td>0</td>\n",
       "    </tr>\n",
       "    <tr>\n",
       "      <th>9</th>\n",
       "      <td>1.142330</td>\n",
       "      <td>0.166046</td>\n",
       "      <td>0.020068</td>\n",
       "      <td>0.895144</td>\n",
       "      <td>0.357465</td>\n",
       "      <td>0.442464</td>\n",
       "      <td>0.020008</td>\n",
       "      <td>0.097501</td>\n",
       "      <td>-0.316402</td>\n",
       "      <td>0.157162</td>\n",
       "      <td>...</td>\n",
       "      <td>0.353184</td>\n",
       "      <td>-0.237013</td>\n",
       "      <td>-0.811310</td>\n",
       "      <td>0.694927</td>\n",
       "      <td>-0.220900</td>\n",
       "      <td>0.027286</td>\n",
       "      <td>0.007137</td>\n",
       "      <td>0.237407</td>\n",
       "      <td>-0.361506</td>\n",
       "      <td>0</td>\n",
       "    </tr>\n",
       "  </tbody>\n",
       "</table>\n",
       "<p>10 rows × 31 columns</p>\n",
       "</div>"
      ],
      "text/plain": [
       "   feature_1  feature_2  feature_3  feature_4  feature_5  feature_6  \\\n",
       "0   2.066860  -0.020046  -1.767555   0.733844   0.273100  -0.759437   \n",
       "1  -3.174988   2.565829  -1.166506  -2.662460  -0.563333  -1.758946   \n",
       "2  -1.358615  -0.694513   0.663246  -0.918161   2.429012  -0.748662   \n",
       "3 -10.290219  -2.815842  -3.015308   0.670187  -0.323126  -0.012862   \n",
       "4   2.066360  -1.862311  -0.043096  -1.562647  -1.844436   0.263880   \n",
       "5  -1.837129  -0.860606   0.931402  -0.503311  -1.601545  -0.063339   \n",
       "6  -0.867614   0.399972   2.307767  -1.404864  -0.114899  -0.423631   \n",
       "7   1.115158  -0.146839   1.371551   0.885772  -1.002526  -0.010030   \n",
       "8  -0.812699   0.748278   0.787756   0.834942   0.939194   0.226452   \n",
       "9   1.142330   0.166046   0.020068   0.895144   0.357465   0.442464   \n",
       "\n",
       "   feature_7  feature_8  feature_9  feature_10  ...  feature_22  feature_23  \\\n",
       "0   0.030152  -0.196861   0.970792   -0.436721  ...    0.134090   -0.044286   \n",
       "1   0.158992   1.060015   0.846993    0.084840  ...   -0.933422    0.196827   \n",
       "2  -0.137744   0.109871   1.414226   -1.288576  ...    0.351336   -0.169299   \n",
       "3   2.315149  -1.951854   2.914832    3.560149  ...   -1.293607   -1.589622   \n",
       "4  -1.849429   0.190699  -0.890452    1.594112  ...    0.208154    0.313158   \n",
       "5  -1.372122   1.010606  -1.067833    0.098599  ...    1.208618   -0.385332   \n",
       "6   0.303280   0.036647  -1.323148   -0.326257  ...   -0.804946   -0.240922   \n",
       "7  -0.644337   0.147296   0.793339   -0.306381  ...    0.165533    0.091804   \n",
       "8   0.287562   0.316810  -0.310771    0.427272  ...    0.819531   -0.133640   \n",
       "9   0.020008   0.097501  -0.316402    0.157162  ...    0.353184   -0.237013   \n",
       "\n",
       "   feature_24  feature_25  feature_26  feature_27  feature_28  feature_29  \\\n",
       "0   -0.711986    0.196494    0.499970   -0.038726   -0.045336   -0.181653   \n",
       "1   -0.132664    0.321662    0.410302    0.403295    0.305377   -0.293440   \n",
       "2    0.187691    0.344757    0.024591    0.007354    0.141657   -0.261301   \n",
       "3    0.994588   -1.024713   -0.792314   -3.596743   -2.944840    1.928596   \n",
       "4    0.745770   -0.576860   -0.309670    0.047811   -0.020008    0.825683   \n",
       "5    0.098418   -0.539129   -0.058342    0.079373   -0.311260    1.802557   \n",
       "6   -0.199841    0.442245   -0.723910    0.059379    0.071508   -0.175924   \n",
       "7    0.456225    0.162527    0.323973    0.038653    0.028735   -0.178998   \n",
       "8   -0.253254   -0.515717   -0.274483    0.652148    0.277662   -0.288130   \n",
       "9   -0.811310    0.694927   -0.220900    0.027286    0.007137    0.237407   \n",
       "\n",
       "   feature_30  Class  \n",
       "0    0.674808      0  \n",
       "1    0.035762      0  \n",
       "2    0.151694      0  \n",
       "3    0.525946      0  \n",
       "4    0.416370      0  \n",
       "5   -0.220926      0  \n",
       "6   -0.086279      0  \n",
       "7   -0.146477      0  \n",
       "8   -0.612331      0  \n",
       "9   -0.361506      0  \n",
       "\n",
       "[10 rows x 31 columns]"
      ]
     },
     "execution_count": 5,
     "metadata": {},
     "output_type": "execute_result"
    }
   ],
   "source": [
    "df.head(10)"
   ]
  },
  {
   "cell_type": "markdown",
   "metadata": {
    "id": "c0pWdCxjzz2h"
   },
   "source": [
    "The dataframe contains 31 columns:\n",
    "* 30 features representing the 30 first dimenions of a PCA applied to the original dataset.\n",
    "* The column **Class** representing the binary target:\n",
    "  * The target 1 means there is a Fraud.\n",
    "  * The target 0 means there is no Fraud."
   ]
  },
  {
   "cell_type": "markdown",
   "metadata": {
    "id": "8n2_13Xm8ohe"
   },
   "source": [
    "---\n",
    "<font color=green>Q5:</font>\n",
    "<br><font color='green'>\n",
    "Using `sns.scatterplot()`\n",
    "* Create a scatter plot to visualise `feature_4` on the x-axis and `feature_3` on the y axis.  \n",
    "* Create a scatter plot to visualise `feature_20` on the x-axis and `feature_15` on the y axis. \n",
    "* In which of the two scatter plots do we have data points which are linearly separable ? \n",
    "</font>\n",
    "\n",
    "---"
   ]
  },
  {
   "cell_type": "code",
   "execution_count": 6,
   "metadata": {
    "colab": {
     "base_uri": "https://localhost:8080/",
     "height": 701
    },
    "executionInfo": {
     "elapsed": 3775,
     "status": "ok",
     "timestamp": 1681811562563,
     "user": {
      "displayName": "Hachem Madmoun",
      "userId": "01826424375397677797"
     },
     "user_tz": -60
    },
    "id": "-K4rO8I-PnOQ",
    "outputId": "2106e391-272d-44de-93be-bc7eb0188361"
   },
   "outputs": [
    {
     "data": {
      "image/png": "[encoded data removed]",
      "text/plain": [
       "<Figure size 1152x576 with 2 Axes>"
      ]
     },
     "metadata": {
      "needs_background": "light"
     },
     "output_type": "display_data"
    }
   ],
   "source": [
    "# create a visual plot to see the target distribution\n",
    "fig, ax = plt.subplots(1, 2, figsize=(16, 8))\n",
    "sns.scatterplot(x='feature_4', y = 'feature_3', data=df, hue='Class', ax=ax[0])\n",
    "sns.scatterplot(x='feature_20', y = 'feature_15', data=df, hue='Class', ax=ax[1])\n",
    "plt.show()"
   ]
  },
  {
   "cell_type": "markdown",
   "metadata": {
    "id": "l9t-23GT0ndc"
   },
   "source": [
    "---\n",
    "<font color=green>Q6:</font>\n",
    "<br><font color='green'>\n",
    "Using `sns.countplot`, create a plot to see the target distribition. Do we have a balanced dataframe ? Is the accuracy metric a good evaluation metric ? \n",
    "</font>\n",
    "\n",
    "---\n"
   ]
  },
  {
   "cell_type": "code",
   "execution_count": 25,
   "metadata": {
    "colab": {
     "base_uri": "https://localhost:8080/",
     "height": 718
    },
    "executionInfo": {
     "elapsed": 395,
     "status": "ok",
     "timestamp": 1681811562949,
     "user": {
      "displayName": "Hachem Madmoun",
      "userId": "01826424375397677797"
     },
     "user_tz": -60
    },
    "id": "Pk-xxYrgPnKo",
    "outputId": "43be9921-77e5-4f50-ee06-098e5b51d7b8"
   },
   "outputs": [
    {
     "data": {
      "image/png": "[encoded data removed]",
      "text/plain": [
       "<Figure size 720x576 with 1 Axes>"
      ]
     },
     "metadata": {
      "needs_background": "light"
     },
     "output_type": "display_data"
    }
   ],
   "source": [
    "# create a visual plot to see the target distribution\n",
    "fig = plt.figure(figsize=(10, 8))\n",
    "g = sns.countplot(x=\"Class\", data=df)\n",
    "g.set_title(\"Target distribution\", fontsize=15)\n",
    "g.set_xlabel(\"Class\", fontsize=15)\n",
    "g.set_ylabel(\"Count\", fontsize=15)\n",
    "plt.show()"
   ]
  },
  {
   "cell_type": "markdown",
   "metadata": {
    "id": "-YOKizDJ3jP4"
   },
   "source": [
    "The dataset is highly imbalanced. The accuracy metric is not a good evaluation metric. "
   ]
  },
  {
   "cell_type": "markdown",
   "metadata": {
    "id": "n7P5q6_oJcQy"
   },
   "source": [
    "# Evaluation Metrics"
   ]
  },
  {
   "cell_type": "markdown",
   "metadata": {
    "id": "Pj7qlAq-J8N2"
   },
   "source": [
    "## The Recall"
   ]
  },
  {
   "cell_type": "markdown",
   "metadata": {
    "id": "qBAqPEpB7W6I"
   },
   "source": [
    "Let us recall the definition of the confusion matrix:\n",
    "\n",
    "<center><img width=\"700\" src = \"https://drive.google.com/uc?export=view&id=1agZSryLBlfSOeoUGxH0HmIJdroIdM5ZA\"></center>"
   ]
  },
  {
   "cell_type": "markdown",
   "metadata": {
    "id": "9P8NpGmOfaC9"
   },
   "source": [
    "As we want to minimize the type 2 error (which is missing a Fraud), the **recall** is a good evaluation metric.\n",
    "\n",
    "\n"
   ]
  },
  {
   "cell_type": "markdown",
   "metadata": {
    "id": "6WX6TySxfdoL"
   },
   "source": [
    "## Another way of understanding the AUC evaluation metric"
   ]
  },
  {
   "cell_type": "markdown",
   "metadata": {
    "id": "2cYdqd6u4WXs"
   },
   "source": [
    "\n",
    "\n",
    "As explained in Lecture 1, the AUC is defined as the area under the curve, i.e, the area between the curve and the x-axis. \n",
    "\n",
    "* Let us consider a dataset $\\mathcal{S} = \\{ (x_1, y_1), \\dots, (x_n, y_n) \\}$ where $\\forall i \\in \\{1, \\dots, n\\} \\quad x_i \\in \\mathbb{R}^d, \\ y_i \\in \\{0, 1\\} \\}$\n",
    "\n",
    "* A classification algorithm (like Random Forest), trained on $\\mathcal{S}$, maps each new obersvation $x^* \\in \\mathbb{R}^d$ to a score $\\hat{p}(x^*) \\in [0, 1]$ signifying the algorithm's confidence that the label of $x^*$ is $y^* = 1$. \n",
    "\n",
    "\n",
    "* Let us split the training feature vectors  $\\{(x_i)\\}_{1 \\leq i \\leq n}$ into two groups:\n",
    "  * A group $\\mathcal{G}_+$ of feature vectors associated with the positive label.  \n",
    "  * A group $\\mathcal{G}_-$ of feature vectors associated with the negative label.\n",
    "\n",
    "* We can then represent two distribution of scores: \n",
    "  * A distribution of the scores $\\hat{p}(x)$ for each $x \\in \\mathcal{G}_+$ \n",
    "  * A distribution of the scores $\\hat{p}(x)$ for each $x \\in \\mathcal{G}_-$ \n",
    "\n",
    "* The figure below summarizes the process described. \n",
    "\n",
    "<center><img width=\"700\" src = \"https://drive.google.com/uc?export=view&id=17AynSe1QDaiZR-_9FpVQMfOzKRdR_Lfi\"></center>\n",
    "\n",
    "* Let us represent the two distributions in one figure: \n",
    "\n",
    "<center><img width=\"700\" src = \"https://drive.google.com/uc?export=view&id=1tKSqfs1ITKikr8F4oaRSs6t2HLN0hIIf\"></center>\n",
    "\n",
    "\n",
    "* The **AUC** can be interpreted as a measure of the quality of seperation between the aforementioned distributions. \n",
    "\n",
    "* Mathematically speaking, the **AUC** gives the probability that the classifier gives a higher score to a positive sample than to a negative sample. (you can read the proof in the [optional reading](https://colab.research.google.com/drive/1gcbB3-3Y6AfohDFJYKmFPF2G-4EIPDTi?usp=sharing)). "
   ]
  },
  {
   "cell_type": "markdown",
   "metadata": {
    "id": "jAB_ANF2gCiY"
   },
   "source": [
    "# Defining a baseline model"
   ]
  },
  {
   "cell_type": "markdown",
   "metadata": {
    "id": "42KwU8pNgNpT"
   },
   "source": [
    "### Splitting the dataset into train set and test set"
   ]
  },
  {
   "cell_type": "code",
   "execution_count": 26,
   "metadata": {
    "colab": {
     "base_uri": "https://localhost:8080/",
     "height": 456
    },
    "executionInfo": {
     "elapsed": 13,
     "status": "ok",
     "timestamp": 1681811562949,
     "user": {
      "displayName": "Hachem Madmoun",
      "userId": "01826424375397677797"
     },
     "user_tz": -60
    },
    "id": "rPt9JW4fbFt0",
    "outputId": "3ab7992f-33e3-4023-d47e-beee5a7a5f79"
   },
   "outputs": [
    {
     "data": {
      "text/html": [
       "<div>\n",
       "<style scoped>\n",
       "    .dataframe tbody tr th:only-of-type {\n",
       "        vertical-align: middle;\n",
       "    }\n",
       "\n",
       "    .dataframe tbody tr th {\n",
       "        vertical-align: top;\n",
       "    }\n",
       "\n",
       "    .dataframe thead th {\n",
       "        text-align: right;\n",
       "    }\n",
       "</style>\n",
       "<table border=\"1\" class=\"dataframe\">\n",
       "  <thead>\n",
       "    <tr style=\"text-align: right;\">\n",
       "      <th></th>\n",
       "      <th>feature_1</th>\n",
       "      <th>feature_2</th>\n",
       "      <th>feature_3</th>\n",
       "      <th>feature_4</th>\n",
       "      <th>feature_5</th>\n",
       "      <th>feature_6</th>\n",
       "      <th>feature_7</th>\n",
       "      <th>feature_8</th>\n",
       "      <th>feature_9</th>\n",
       "      <th>feature_10</th>\n",
       "      <th>...</th>\n",
       "      <th>feature_22</th>\n",
       "      <th>feature_23</th>\n",
       "      <th>feature_24</th>\n",
       "      <th>feature_25</th>\n",
       "      <th>feature_26</th>\n",
       "      <th>feature_27</th>\n",
       "      <th>feature_28</th>\n",
       "      <th>feature_29</th>\n",
       "      <th>feature_30</th>\n",
       "      <th>Class</th>\n",
       "    </tr>\n",
       "  </thead>\n",
       "  <tbody>\n",
       "    <tr>\n",
       "      <th>0</th>\n",
       "      <td>2.066860</td>\n",
       "      <td>-0.020046</td>\n",
       "      <td>-1.767555</td>\n",
       "      <td>0.733844</td>\n",
       "      <td>0.273100</td>\n",
       "      <td>-0.759437</td>\n",
       "      <td>0.030152</td>\n",
       "      <td>-0.196861</td>\n",
       "      <td>0.970792</td>\n",
       "      <td>-0.436721</td>\n",
       "      <td>...</td>\n",
       "      <td>0.134090</td>\n",
       "      <td>-0.044286</td>\n",
       "      <td>-0.711986</td>\n",
       "      <td>0.196494</td>\n",
       "      <td>0.499970</td>\n",
       "      <td>-0.038726</td>\n",
       "      <td>-0.045336</td>\n",
       "      <td>-0.181653</td>\n",
       "      <td>0.674808</td>\n",
       "      <td>0</td>\n",
       "    </tr>\n",
       "    <tr>\n",
       "      <th>1</th>\n",
       "      <td>-3.174988</td>\n",
       "      <td>2.565829</td>\n",
       "      <td>-1.166506</td>\n",
       "      <td>-2.662460</td>\n",
       "      <td>-0.563333</td>\n",
       "      <td>-1.758946</td>\n",
       "      <td>0.158992</td>\n",
       "      <td>1.060015</td>\n",
       "      <td>0.846993</td>\n",
       "      <td>0.084840</td>\n",
       "      <td>...</td>\n",
       "      <td>-0.933422</td>\n",
       "      <td>0.196827</td>\n",
       "      <td>-0.132664</td>\n",
       "      <td>0.321662</td>\n",
       "      <td>0.410302</td>\n",
       "      <td>0.403295</td>\n",
       "      <td>0.305377</td>\n",
       "      <td>-0.293440</td>\n",
       "      <td>0.035762</td>\n",
       "      <td>0</td>\n",
       "    </tr>\n",
       "    <tr>\n",
       "      <th>2</th>\n",
       "      <td>-1.358615</td>\n",
       "      <td>-0.694513</td>\n",
       "      <td>0.663246</td>\n",
       "      <td>-0.918161</td>\n",
       "      <td>2.429012</td>\n",
       "      <td>-0.748662</td>\n",
       "      <td>-0.137744</td>\n",
       "      <td>0.109871</td>\n",
       "      <td>1.414226</td>\n",
       "      <td>-1.288576</td>\n",
       "      <td>...</td>\n",
       "      <td>0.351336</td>\n",
       "      <td>-0.169299</td>\n",
       "      <td>0.187691</td>\n",
       "      <td>0.344757</td>\n",
       "      <td>0.024591</td>\n",
       "      <td>0.007354</td>\n",
       "      <td>0.141657</td>\n",
       "      <td>-0.261301</td>\n",
       "      <td>0.151694</td>\n",
       "      <td>0</td>\n",
       "    </tr>\n",
       "    <tr>\n",
       "      <th>3</th>\n",
       "      <td>-10.290219</td>\n",
       "      <td>-2.815842</td>\n",
       "      <td>-3.015308</td>\n",
       "      <td>0.670187</td>\n",
       "      <td>-0.323126</td>\n",
       "      <td>-0.012862</td>\n",
       "      <td>2.315149</td>\n",
       "      <td>-1.951854</td>\n",
       "      <td>2.914832</td>\n",
       "      <td>3.560149</td>\n",
       "      <td>...</td>\n",
       "      <td>-1.293607</td>\n",
       "      <td>-1.589622</td>\n",
       "      <td>0.994588</td>\n",
       "      <td>-1.024713</td>\n",
       "      <td>-0.792314</td>\n",
       "      <td>-3.596743</td>\n",
       "      <td>-2.944840</td>\n",
       "      <td>1.928596</td>\n",
       "      <td>0.525946</td>\n",
       "      <td>0</td>\n",
       "    </tr>\n",
       "    <tr>\n",
       "      <th>4</th>\n",
       "      <td>2.066360</td>\n",
       "      <td>-1.862311</td>\n",
       "      <td>-0.043096</td>\n",
       "      <td>-1.562647</td>\n",
       "      <td>-1.844436</td>\n",
       "      <td>0.263880</td>\n",
       "      <td>-1.849429</td>\n",
       "      <td>0.190699</td>\n",
       "      <td>-0.890452</td>\n",
       "      <td>1.594112</td>\n",
       "      <td>...</td>\n",
       "      <td>0.208154</td>\n",
       "      <td>0.313158</td>\n",
       "      <td>0.745770</td>\n",
       "      <td>-0.576860</td>\n",
       "      <td>-0.309670</td>\n",
       "      <td>0.047811</td>\n",
       "      <td>-0.020008</td>\n",
       "      <td>0.825683</td>\n",
       "      <td>0.416370</td>\n",
       "      <td>0</td>\n",
       "    </tr>\n",
       "    <tr>\n",
       "      <th>5</th>\n",
       "      <td>-1.837129</td>\n",
       "      <td>-0.860606</td>\n",
       "      <td>0.931402</td>\n",
       "      <td>-0.503311</td>\n",
       "      <td>-1.601545</td>\n",
       "      <td>-0.063339</td>\n",
       "      <td>-1.372122</td>\n",
       "      <td>1.010606</td>\n",
       "      <td>-1.067833</td>\n",
       "      <td>0.098599</td>\n",
       "      <td>...</td>\n",
       "      <td>1.208618</td>\n",
       "      <td>-0.385332</td>\n",
       "      <td>0.098418</td>\n",
       "      <td>-0.539129</td>\n",
       "      <td>-0.058342</td>\n",
       "      <td>0.079373</td>\n",
       "      <td>-0.311260</td>\n",
       "      <td>1.802557</td>\n",
       "      <td>-0.220926</td>\n",
       "      <td>0</td>\n",
       "    </tr>\n",
       "    <tr>\n",
       "      <th>6</th>\n",
       "      <td>-0.867614</td>\n",
       "      <td>0.399972</td>\n",
       "      <td>2.307767</td>\n",
       "      <td>-1.404864</td>\n",
       "      <td>-0.114899</td>\n",
       "      <td>-0.423631</td>\n",
       "      <td>0.303280</td>\n",
       "      <td>0.036647</td>\n",
       "      <td>-1.323148</td>\n",
       "      <td>-0.326257</td>\n",
       "      <td>...</td>\n",
       "      <td>-0.804946</td>\n",
       "      <td>-0.240922</td>\n",
       "      <td>-0.199841</td>\n",
       "      <td>0.442245</td>\n",
       "      <td>-0.723910</td>\n",
       "      <td>0.059379</td>\n",
       "      <td>0.071508</td>\n",
       "      <td>-0.175924</td>\n",
       "      <td>-0.086279</td>\n",
       "      <td>0</td>\n",
       "    </tr>\n",
       "    <tr>\n",
       "      <th>7</th>\n",
       "      <td>1.115158</td>\n",
       "      <td>-0.146839</td>\n",
       "      <td>1.371551</td>\n",
       "      <td>0.885772</td>\n",
       "      <td>-1.002526</td>\n",
       "      <td>-0.010030</td>\n",
       "      <td>-0.644337</td>\n",
       "      <td>0.147296</td>\n",
       "      <td>0.793339</td>\n",
       "      <td>-0.306381</td>\n",
       "      <td>...</td>\n",
       "      <td>0.165533</td>\n",
       "      <td>0.091804</td>\n",
       "      <td>0.456225</td>\n",
       "      <td>0.162527</td>\n",
       "      <td>0.323973</td>\n",
       "      <td>0.038653</td>\n",
       "      <td>0.028735</td>\n",
       "      <td>-0.178998</td>\n",
       "      <td>-0.146477</td>\n",
       "      <td>0</td>\n",
       "    </tr>\n",
       "    <tr>\n",
       "      <th>8</th>\n",
       "      <td>-0.812699</td>\n",
       "      <td>0.748278</td>\n",
       "      <td>0.787756</td>\n",
       "      <td>0.834942</td>\n",
       "      <td>0.939194</td>\n",
       "      <td>0.226452</td>\n",
       "      <td>0.287562</td>\n",
       "      <td>0.316810</td>\n",
       "      <td>-0.310771</td>\n",
       "      <td>0.427272</td>\n",
       "      <td>...</td>\n",
       "      <td>0.819531</td>\n",
       "      <td>-0.133640</td>\n",
       "      <td>-0.253254</td>\n",
       "      <td>-0.515717</td>\n",
       "      <td>-0.274483</td>\n",
       "      <td>0.652148</td>\n",
       "      <td>0.277662</td>\n",
       "      <td>-0.288130</td>\n",
       "      <td>-0.612331</td>\n",
       "      <td>0</td>\n",
       "    </tr>\n",
       "    <tr>\n",
       "      <th>9</th>\n",
       "      <td>1.142330</td>\n",
       "      <td>0.166046</td>\n",
       "      <td>0.020068</td>\n",
       "      <td>0.895144</td>\n",
       "      <td>0.357465</td>\n",
       "      <td>0.442464</td>\n",
       "      <td>0.020008</td>\n",
       "      <td>0.097501</td>\n",
       "      <td>-0.316402</td>\n",
       "      <td>0.157162</td>\n",
       "      <td>...</td>\n",
       "      <td>0.353184</td>\n",
       "      <td>-0.237013</td>\n",
       "      <td>-0.811310</td>\n",
       "      <td>0.694927</td>\n",
       "      <td>-0.220900</td>\n",
       "      <td>0.027286</td>\n",
       "      <td>0.007137</td>\n",
       "      <td>0.237407</td>\n",
       "      <td>-0.361506</td>\n",
       "      <td>0</td>\n",
       "    </tr>\n",
       "  </tbody>\n",
       "</table>\n",
       "<p>10 rows × 31 columns</p>\n",
       "</div>"
      ],
      "text/plain": [
       "   feature_1  feature_2  feature_3  feature_4  feature_5  feature_6  \\\n",
       "0   2.066860  -0.020046  -1.767555   0.733844   0.273100  -0.759437   \n",
       "1  -3.174988   2.565829  -1.166506  -2.662460  -0.563333  -1.758946   \n",
       "2  -1.358615  -0.694513   0.663246  -0.918161   2.429012  -0.748662   \n",
       "3 -10.290219  -2.815842  -3.015308   0.670187  -0.323126  -0.012862   \n",
       "4   2.066360  -1.862311  -0.043096  -1.562647  -1.844436   0.263880   \n",
       "5  -1.837129  -0.860606   0.931402  -0.503311  -1.601545  -0.063339   \n",
       "6  -0.867614   0.399972   2.307767  -1.404864  -0.114899  -0.423631   \n",
       "7   1.115158  -0.146839   1.371551   0.885772  -1.002526  -0.010030   \n",
       "8  -0.812699   0.748278   0.787756   0.834942   0.939194   0.226452   \n",
       "9   1.142330   0.166046   0.020068   0.895144   0.357465   0.442464   \n",
       "\n",
       "   feature_7  feature_8  feature_9  feature_10  ...  feature_22  feature_23  \\\n",
       "0   0.030152  -0.196861   0.970792   -0.436721  ...    0.134090   -0.044286   \n",
       "1   0.158992   1.060015   0.846993    0.084840  ...   -0.933422    0.196827   \n",
       "2  -0.137744   0.109871   1.414226   -1.288576  ...    0.351336   -0.169299   \n",
       "3   2.315149  -1.951854   2.914832    3.560149  ...   -1.293607   -1.589622   \n",
       "4  -1.849429   0.190699  -0.890452    1.594112  ...    0.208154    0.313158   \n",
       "5  -1.372122   1.010606  -1.067833    0.098599  ...    1.208618   -0.385332   \n",
       "6   0.303280   0.036647  -1.323148   -0.326257  ...   -0.804946   -0.240922   \n",
       "7  -0.644337   0.147296   0.793339   -0.306381  ...    0.165533    0.091804   \n",
       "8   0.287562   0.316810  -0.310771    0.427272  ...    0.819531   -0.133640   \n",
       "9   0.020008   0.097501  -0.316402    0.157162  ...    0.353184   -0.237013   \n",
       "\n",
       "   feature_24  feature_25  feature_26  feature_27  feature_28  feature_29  \\\n",
       "0   -0.711986    0.196494    0.499970   -0.038726   -0.045336   -0.181653   \n",
       "1   -0.132664    0.321662    0.410302    0.403295    0.305377   -0.293440   \n",
       "2    0.187691    0.344757    0.024591    0.007354    0.141657   -0.261301   \n",
       "3    0.994588   -1.024713   -0.792314   -3.596743   -2.944840    1.928596   \n",
       "4    0.745770   -0.576860   -0.309670    0.047811   -0.020008    0.825683   \n",
       "5    0.098418   -0.539129   -0.058342    0.079373   -0.311260    1.802557   \n",
       "6   -0.199841    0.442245   -0.723910    0.059379    0.071508   -0.175924   \n",
       "7    0.456225    0.162527    0.323973    0.038653    0.028735   -0.178998   \n",
       "8   -0.253254   -0.515717   -0.274483    0.652148    0.277662   -0.288130   \n",
       "9   -0.811310    0.694927   -0.220900    0.027286    0.007137    0.237407   \n",
       "\n",
       "   feature_30  Class  \n",
       "0    0.674808      0  \n",
       "1    0.035762      0  \n",
       "2    0.151694      0  \n",
       "3    0.525946      0  \n",
       "4    0.416370      0  \n",
       "5   -0.220926      0  \n",
       "6   -0.086279      0  \n",
       "7   -0.146477      0  \n",
       "8   -0.612331      0  \n",
       "9   -0.361506      0  \n",
       "\n",
       "[10 rows x 31 columns]"
      ]
     },
     "execution_count": 26,
     "metadata": {},
     "output_type": "execute_result"
    }
   ],
   "source": [
    "df.head(10)"
   ]
  },
  {
   "cell_type": "markdown",
   "metadata": {
    "id": "ipdey7R8CnNR"
   },
   "source": [
    "---\n",
    "<font color=green>Q7:</font>\n",
    "<br><font color='green'>\n",
    "Extract from the dataframe the following matrices:\n",
    "* X of shape (10000, 30): the matrix containing the 30 features for all the samples\n",
    "* Y of shape (10000, 1): the matrix containing the binary target.\n",
    "</font>\n",
    "\n",
    "---"
   ]
  },
  {
   "cell_type": "code",
   "execution_count": 27,
   "metadata": {
    "colab": {
     "base_uri": "https://localhost:8080/"
    },
    "executionInfo": {
     "elapsed": 12,
     "status": "ok",
     "timestamp": 1681811562949,
     "user": {
      "displayName": "Hachem Madmoun",
      "userId": "01826424375397677797"
     },
     "user_tz": -60
    },
    "id": "5arn5CPJbbTS",
    "outputId": "2979c7e5-e96d-47f6-a04a-1cc8dcc82a31"
   },
   "outputs": [
    {
     "data": {
      "text/plain": [
       "(10000,)"
      ]
     },
     "execution_count": 27,
     "metadata": {},
     "output_type": "execute_result"
    }
   ],
   "source": [
    "np.squeeze(df[[\"Class\"]].values).shape"
   ]
  },
  {
   "cell_type": "code",
   "execution_count": 28,
   "metadata": {
    "colab": {
     "base_uri": "https://localhost:8080/"
    },
    "executionInfo": {
     "elapsed": 9,
     "status": "ok",
     "timestamp": 1681811562949,
     "user": {
      "displayName": "Hachem Madmoun",
      "userId": "01826424375397677797"
     },
     "user_tz": -60
    },
    "id": "ejAfM7VtCnas",
    "outputId": "7c5cc98c-59a7-40ed-ce77-459afef285d3"
   },
   "outputs": [
    {
     "name": "stderr",
     "output_type": "stream",
     "text": [
      "C:\\Users\\Jernan\\AppData\\Local\\Temp\\ipykernel_3640\\1245607040.py:2: FutureWarning: In a future version of pandas all arguments of DataFrame.drop except for the argument 'labels' will be keyword-only.\n",
      "  X = df.drop(\"Class\", 1).values\n"
     ]
    }
   ],
   "source": [
    "# Extract the feature matrix\n",
    "X = df.drop(\"Class\", 1).values\n",
    "# Extract the target\n",
    "Y = np.squeeze(df[[\"Class\"]].values)"
   ]
  },
  {
   "cell_type": "code",
   "execution_count": 29,
   "metadata": {
    "colab": {
     "base_uri": "https://localhost:8080/"
    },
    "executionInfo": {
     "elapsed": 7,
     "status": "ok",
     "timestamp": 1681811562949,
     "user": {
      "displayName": "Hachem Madmoun",
      "userId": "01826424375397677797"
     },
     "user_tz": -60
    },
    "id": "ImTIUjeQDGW7",
    "outputId": "986242fb-6fd0-4a7f-a23d-24a440202e7e"
   },
   "outputs": [
    {
     "data": {
      "text/plain": [
       "(10000, 30)"
      ]
     },
     "execution_count": 29,
     "metadata": {},
     "output_type": "execute_result"
    }
   ],
   "source": [
    "# Shape of X\n",
    "X.shape"
   ]
  },
  {
   "cell_type": "code",
   "execution_count": 30,
   "metadata": {
    "colab": {
     "base_uri": "https://localhost:8080/"
    },
    "executionInfo": {
     "elapsed": 6,
     "status": "ok",
     "timestamp": 1681811562949,
     "user": {
      "displayName": "Hachem Madmoun",
      "userId": "01826424375397677797"
     },
     "user_tz": -60
    },
    "id": "ODdjb1KkPnQ6",
    "outputId": "adea0165-2467-4952-81d6-17e1e3232eea"
   },
   "outputs": [
    {
     "data": {
      "text/plain": [
       "(10000,)"
      ]
     },
     "execution_count": 30,
     "metadata": {},
     "output_type": "execute_result"
    }
   ],
   "source": [
    "# Shape of Y\n",
    "Y.shape"
   ]
  },
  {
   "cell_type": "markdown",
   "metadata": {
    "id": "0cp5c5YVDS77"
   },
   "source": [
    "---\n",
    "<font color=green>Q8:</font>\n",
    "<br><font color='green'>\n",
    "* Using `train_test_split` from `sklearn.model_selection`, split the data into training set and test set. \n",
    "* Use 30% of the data for the test. \n",
    "</font>\n",
    "\n",
    "---\n"
   ]
  },
  {
   "cell_type": "code",
   "execution_count": 33,
   "metadata": {
    "executionInfo": {
     "elapsed": 462,
     "status": "ok",
     "timestamp": 1681811563406,
     "user": {
      "displayName": "Hachem Madmoun",
      "userId": "01826424375397677797"
     },
     "user_tz": -60
    },
    "id": "YcIy7mVZDTIH"
   },
   "outputs": [],
   "source": [
    "# Import the module\n",
    "from sklearn.model_selection import train_test_split\n",
    "# Split the data \n",
    "X_train, X_test, y_train, y_test = train_test_split(X, Y, test_size=0.3, random_state=421)"
   ]
  },
  {
   "cell_type": "code",
   "execution_count": 34,
   "metadata": {
    "colab": {
     "base_uri": "https://localhost:8080/"
    },
    "executionInfo": {
     "elapsed": 6,
     "status": "ok",
     "timestamp": 1681811563407,
     "user": {
      "displayName": "Hachem Madmoun",
      "userId": "01826424375397677797"
     },
     "user_tz": -60
    },
    "id": "OT8CzPvcPnSx",
    "outputId": "7ed0bc2a-5903-48b2-bbab-52d04ce06b5d"
   },
   "outputs": [
    {
     "data": {
      "text/plain": [
       "(7000, 30)"
      ]
     },
     "execution_count": 34,
     "metadata": {},
     "output_type": "execute_result"
    }
   ],
   "source": [
    "# Shape of X_train\n",
    "X_train.shape"
   ]
  },
  {
   "cell_type": "code",
   "execution_count": 35,
   "metadata": {
    "colab": {
     "base_uri": "https://localhost:8080/"
    },
    "executionInfo": {
     "elapsed": 6,
     "status": "ok",
     "timestamp": 1681811563407,
     "user": {
      "displayName": "Hachem Madmoun",
      "userId": "01826424375397677797"
     },
     "user_tz": -60
    },
    "id": "W0GPe4hHD053",
    "outputId": "ea5a70d4-03f8-4e54-eeb4-789e6846f6b0"
   },
   "outputs": [
    {
     "data": {
      "text/plain": [
       "(7000,)"
      ]
     },
     "execution_count": 35,
     "metadata": {},
     "output_type": "execute_result"
    }
   ],
   "source": [
    "# Shape of y_train\n",
    "y_train.shape"
   ]
  },
  {
   "cell_type": "code",
   "execution_count": 36,
   "metadata": {
    "colab": {
     "base_uri": "https://localhost:8080/"
    },
    "executionInfo": {
     "elapsed": 4,
     "status": "ok",
     "timestamp": 1681811563407,
     "user": {
      "displayName": "Hachem Madmoun",
      "userId": "01826424375397677797"
     },
     "user_tz": -60
    },
    "id": "C3PdurOJD1E9",
    "outputId": "f00ec59f-569b-4de9-fb2e-22fa3229cbbb"
   },
   "outputs": [
    {
     "data": {
      "text/plain": [
       "(3000, 30)"
      ]
     },
     "execution_count": 36,
     "metadata": {},
     "output_type": "execute_result"
    }
   ],
   "source": [
    "# Shape of X_test  \n",
    "X_test.shape "
   ]
  },
  {
   "cell_type": "code",
   "execution_count": 37,
   "metadata": {
    "colab": {
     "base_uri": "https://localhost:8080/"
    },
    "executionInfo": {
     "elapsed": 3,
     "status": "ok",
     "timestamp": 1681811563407,
     "user": {
      "displayName": "Hachem Madmoun",
      "userId": "01826424375397677797"
     },
     "user_tz": -60
    },
    "id": "2zccwTBVD1OX",
    "outputId": "980fe9e7-472a-4ebe-9a21-58eb56bf3bd4"
   },
   "outputs": [
    {
     "data": {
      "text/plain": [
       "(3000,)"
      ]
     },
     "execution_count": 37,
     "metadata": {},
     "output_type": "execute_result"
    }
   ],
   "source": [
    "# Shape of y_test\n",
    "y_test.shape"
   ]
  },
  {
   "cell_type": "markdown",
   "metadata": {
    "id": "9Skekpb8fpfj"
   },
   "source": [
    "### A baseline model"
   ]
  },
  {
   "cell_type": "markdown",
   "metadata": {
    "id": "OOdTGLqSEX5m"
   },
   "source": [
    "---\n",
    "<font color=green>Q9:</font>\n",
    "<br><font color='green'>\n",
    "* Import the **Random Forest** classifier from `sklearn.ensemble` and name it `rf`.\n",
    "* Fit the model to the training data using `rf.fit()`\n",
    "</font>\n",
    "\n",
    "---"
   ]
  },
  {
   "cell_type": "code",
   "execution_count": 38,
   "metadata": {
    "colab": {
     "base_uri": "https://localhost:8080/",
     "height": 75
    },
    "executionInfo": {
     "elapsed": 4631,
     "status": "ok",
     "timestamp": 1681811568036,
     "user": {
      "displayName": "Hachem Madmoun",
      "userId": "01826424375397677797"
     },
     "user_tz": -60
    },
    "id": "bcDkdZ0lELRq",
    "outputId": "509add05-1a13-4e74-904d-e740684eecea"
   },
   "outputs": [
    {
     "data": {
      "text/plain": [
       "RandomForestClassifier(random_state=421)"
      ]
     },
     "execution_count": 38,
     "metadata": {},
     "output_type": "execute_result"
    }
   ],
   "source": [
    "from sklearn.ensemble import RandomForestClassifier\n",
    "\n",
    "rf = RandomForestClassifier(random_state=421)\n",
    "rf.fit(X_train, y_train)"
   ]
  },
  {
   "cell_type": "markdown",
   "metadata": {
    "id": "W6RjPADksjRE"
   },
   "source": [
    "\n",
    "\n",
    "\n",
    "* The method `rf.predict_proba()` maps each element $x$ to a prediction (or a score) $p(x) \\in [0, 1]$ reflecting the confidence of the classifier in assigning the target $y=1$ to the feature vector $x$. \n",
    "\n",
    "\n",
    "<center><img width=“500\" src = \"https://drive.google.com/uc?export=view&id=1znqNbk_1GLWeTgxf3PU0HcGg1r1L-uLo\"></center>\n",
    "\n",
    "\n",
    "* In order to convert the continuous prediciton $p(x)$ into a binary prediction $\\hat{y} \\in \\{0, 1 \\}$, we need to choose a **threshold** above which we assign the positive label.\n",
    "\n",
    "* The default threshold is 0.5 and the method used to map $x$ to a binary output with this default threshold 0.5 is `rf.predict()`"
   ]
  },
  {
   "cell_type": "markdown",
   "metadata": {
    "id": "hVDbi6ntyLhd"
   },
   "source": [
    "---\n",
    "<font color=green>Q10:</font>\n",
    "<br><font color='green'>\n",
    "By using the methods previously described, calculate the vector `y_hat` corresponding to the binary predictions associated with `X_test` corresponding to a threshold 0.5. \n",
    "</font>\n",
    "\n",
    "---"
   ]
  },
  {
   "cell_type": "code",
   "execution_count": 39,
   "metadata": {
    "executionInfo": {
     "elapsed": 2,
     "status": "ok",
     "timestamp": 1681811568256,
     "user": {
      "displayName": "Hachem Madmoun",
      "userId": "01826424375397677797"
     },
     "user_tz": -60
    },
    "id": "hUEoAhKmELT3"
   },
   "outputs": [],
   "source": [
    "# Calculating y_hat\n",
    "y_hat = rf.predict(X_test)"
   ]
  },
  {
   "cell_type": "markdown",
   "metadata": {
    "id": "RRPqsIHBy1jS"
   },
   "source": [
    "---\n",
    "<font color=green>Q11:</font>\n",
    "<br><font color='green'>\n",
    "By importing `confusion_matrix` from `sklearn.metrics`, create a visual plot of the confusion matrix on test set. \n",
    "</font>\n",
    "\n",
    "---\n"
   ]
  },
  {
   "cell_type": "code",
   "execution_count": 40,
   "metadata": {
    "colab": {
     "base_uri": "https://localhost:8080/",
     "height": 718
    },
    "executionInfo": {
     "elapsed": 967,
     "status": "ok",
     "timestamp": 1681811834416,
     "user": {
      "displayName": "Hachem Madmoun",
      "userId": "01826424375397677797"
     },
     "user_tz": -60
    },
    "id": "PcQhBhiCELYi",
    "outputId": "ea38dfcb-f4bf-4982-d503-65167f807c24"
   },
   "outputs": [
    {
     "data": {
      "image/png": "[encoded data removed]",
      "text/plain": [
       "<Figure size 720x576 with 2 Axes>"
      ]
     },
     "metadata": {
      "needs_background": "light"
     },
     "output_type": "display_data"
    }
   ],
   "source": [
    "from sklearn.metrics import confusion_matrix\n",
    "fig = plt.figure(figsize=(10, 8))\n",
    "g = sns.heatmap(confusion_matrix(y_test, y_hat),\n",
    "            annot=True,\n",
    "            fmt=\"0.0f\")\n",
    "g.set_xlabel(\"Predicted\")\n",
    "g.set_ylabel(\"Actual\")\n",
    "g.set_title(\"Confusion Matrix on the test set\")\n",
    "plt.show()"
   ]
  },
  {
   "cell_type": "markdown",
   "metadata": {
    "id": "7N3orsIF08RY"
   },
   "source": [
    "---\n",
    "<font color=green>Q12:</font>\n",
    "<br><font color='green'>\n",
    "By importing `classification_report` from `sklearn.metrics`, display the following metrics:\n",
    "* The precision.\n",
    "* The recall.\n",
    "* The f1 score.\n",
    "</font>\n",
    "\n",
    "---"
   ]
  },
  {
   "cell_type": "code",
   "execution_count": 41,
   "metadata": {
    "colab": {
     "base_uri": "https://localhost:8080/"
    },
    "executionInfo": {
     "elapsed": 5,
     "status": "ok",
     "timestamp": 1681811568881,
     "user": {
      "displayName": "Hachem Madmoun",
      "userId": "01826424375397677797"
     },
     "user_tz": -60
    },
    "id": "wEEO2Qt6ELbE",
    "outputId": "374c0554-840a-4cec-d4ad-c62070121e20"
   },
   "outputs": [
    {
     "name": "stdout",
     "output_type": "stream",
     "text": [
      "              precision    recall  f1-score   support\n",
      "\n",
      "           0       0.99      1.00      1.00      2889\n",
      "           1       0.98      0.84      0.90       111\n",
      "\n",
      "    accuracy                           0.99      3000\n",
      "   macro avg       0.99      0.92      0.95      3000\n",
      "weighted avg       0.99      0.99      0.99      3000\n",
      "\n"
     ]
    }
   ],
   "source": [
    "# print the classification report\n",
    "from sklearn.metrics import classification_report\n",
    "\n",
    "print(classification_report(y_test, y_hat))"
   ]
  },
  {
   "cell_type": "markdown",
   "metadata": {
    "id": "bVqE-f96TkPo"
   },
   "source": [
    "# Improving the model"
   ]
  },
  {
   "cell_type": "markdown",
   "metadata": {
    "id": "U67-gm73Tonn"
   },
   "source": [
    "### Resampling techniques"
   ]
  },
  {
   "cell_type": "markdown",
   "metadata": {
    "id": "7-m0stpT2Iaj"
   },
   "source": [
    "* The main problem when we train a model using an imbalanced dataset is that it results in a biased classifier towards the majority class. \n",
    "\n",
    "* There are two ways to overcome this bias problem:\n",
    "  * **Undersampling**: In this case, we randomly select as many observations of the majority class $\\mathcal{G}_-$ as we have for the minority class $\\mathcal{G}_+$. (See figure below)\n",
    "  \n",
    "  <center><img width=“500\" src = \"https://drive.google.com/uc?export=view&id=106_U8l014dk7LybyoPpUEiLlABfeWbhZ\"></center>\n",
    "\n",
    "  * **Oversampling**: In this case, we prefer to have more elements from the minority class $\\mathcal{G}_+$. Hence, we either create duplicates of the minority class or create synthetic datapoints so that we reach $|\\mathcal{G}_-|$ samples (where $|F|$ denotes the number of elements of $F$). One way of creating synthetic data points is called the **SMOTE** (Synthetic Minority Oversampling Technique). The method is described in [Synthetic Minority Over-sampling Technique](https://arxiv.org/pdf/1106.1813.pdf) and can be summarized as follows:\n",
    "    * First, a random example $x_1$ is chosed from the minority class $\\mathcal{G}_+$. \n",
    "    * Then, we find the k nearest neighbors for that example (typically $k=5$).\n",
    "    * We randomly select one of these k neighbors, let's call it $x_2$.\n",
    "    * The synthetic instances are generated as a convex combination of the two instances $x_1$ and $x_2$. \n",
    "\n",
    "  <center><img width=“500\" src = \"https://drive.google.com/uc?export=view&id=1j2EGBKoXKdI66mynmgdIYlRT2HWpdhrQ\"></center>\n"
   ]
  },
  {
   "cell_type": "markdown",
   "metadata": {
    "id": "09ADCW3aFQzV"
   },
   "source": [
    "---\n",
    "<font color=green>Q13:</font>\n",
    "<br><font color='green'>\n",
    "By using `SMOTE` from `imblearn.over_sampling`, create a new dataset $(X_{\\text{smote}}, y_{\\text{smote}})$ obtained by oversamping from the negative class $\\mathcal{G}_-$ using the aformentioned SMOTE technique.\n",
    "</font>\n",
    "\n",
    "---"
   ]
  },
  {
   "cell_type": "code",
   "execution_count": 44,
   "metadata": {
    "executionInfo": {
     "elapsed": 263,
     "status": "ok",
     "timestamp": 1681811569141,
     "user": {
      "displayName": "Hachem Madmoun",
      "userId": "01826424375397677797"
     },
     "user_tz": -60
    },
    "id": "yfL--kLRELc6"
   },
   "outputs": [],
   "source": [
    "from imblearn.over_sampling import SMOTE \n",
    "smote = SMOTE(random_state=42)\n",
    "X_smote, y_smote = smote.fit_resample(X_train, y_train)"
   ]
  },
  {
   "cell_type": "code",
   "execution_count": 45,
   "metadata": {
    "executionInfo": {
     "elapsed": 1,
     "status": "ok",
     "timestamp": 1681811569141,
     "user": {
      "displayName": "Hachem Madmoun",
      "userId": "01826424375397677797"
     },
     "user_tz": -60
    },
    "id": "ePtrqekP-Jhq"
   },
   "outputs": [],
   "source": [
    "# sanity check\n",
    "assert 2*np.sum(1 - y_train) == X_smote.shape[0], \"Oupsii !!\""
   ]
  },
  {
   "cell_type": "markdown",
   "metadata": {
    "id": "wOuY5ct9VU2F"
   },
   "source": [
    "---\n",
    "<font color=green>Q14:</font>\n",
    "<br><font color='green'>\n",
    "* Retrain the Random Forest classifier with the new training dataset $(X_{\\text{smote}}, y_{\\text{smote}})$ \n",
    "* Use the trained classifier to predict the targets associated with `X_test`\n",
    "* Plot the confusion matrix.\n",
    "* Calculate the main evaluation metrics and determine if there has been any improvement.\n",
    "</font>\n",
    "\n",
    "---"
   ]
  },
  {
   "cell_type": "code",
   "execution_count": 46,
   "metadata": {
    "colab": {
     "base_uri": "https://localhost:8080/",
     "height": 75
    },
    "executionInfo": {
     "elapsed": 6664,
     "status": "ok",
     "timestamp": 1681811575804,
     "user": {
      "displayName": "Hachem Madmoun",
      "userId": "01826424375397677797"
     },
     "user_tz": -60
    },
    "id": "0v6BQnBvELuc",
    "outputId": "e94e5e91-1077-49f0-f677-d805dc08aa97"
   },
   "outputs": [
    {
     "data": {
      "text/plain": [
       "RandomForestClassifier(random_state=42)"
      ]
     },
     "execution_count": 46,
     "metadata": {},
     "output_type": "execute_result"
    }
   ],
   "source": [
    "# Train the new model on (X_smote, y_smote)\n",
    "rf_smote = RandomForestClassifier(random_state=42)\n",
    "rf_smote.fit(X_smote, y_smote)"
   ]
  },
  {
   "cell_type": "code",
   "execution_count": 47,
   "metadata": {
    "executionInfo": {
     "elapsed": 2,
     "status": "ok",
     "timestamp": 1681811575804,
     "user": {
      "displayName": "Hachem Madmoun",
      "userId": "01826424375397677797"
     },
     "user_tz": -60
    },
    "id": "65ok998pELwF"
   },
   "outputs": [],
   "source": [
    "# predict the classes on test data using the trained model \n",
    "y_hat_smote = rf_smote.predict(X_test)"
   ]
  },
  {
   "cell_type": "code",
   "execution_count": 48,
   "metadata": {
    "colab": {
     "base_uri": "https://localhost:8080/",
     "height": 718
    },
    "executionInfo": {
     "elapsed": 385,
     "status": "ok",
     "timestamp": 1681811576188,
     "user": {
      "displayName": "Hachem Madmoun",
      "userId": "01826424375397677797"
     },
     "user_tz": -60
    },
    "id": "YVfksGJZWkXF",
    "outputId": "ac4327d5-7075-4e55-dc0a-15049fcf0160"
   },
   "outputs": [
    {
     "data": {
      "image/png": "[encoded data removed]",
      "text/plain": [
       "<Figure size 720x576 with 2 Axes>"
      ]
     },
     "metadata": {
      "needs_background": "light"
     },
     "output_type": "display_data"
    }
   ],
   "source": [
    "# Plot the confusion matrix\n",
    "from sklearn.metrics import confusion_matrix\n",
    "fig = plt.figure(figsize=(10, 8))\n",
    "g = sns.heatmap(confusion_matrix(y_test, y_hat_smote),\n",
    "            annot=True,\n",
    "            fmt=\"0.0f\")\n",
    "g.set_xlabel(\"Predicted\")\n",
    "g.set_ylabel(\"Actual\")\n",
    "g.set_title(\"Confusion Matrix on the test set\")\n",
    "plt.show()"
   ]
  },
  {
   "cell_type": "code",
   "execution_count": 49,
   "metadata": {
    "colab": {
     "base_uri": "https://localhost:8080/"
    },
    "executionInfo": {
     "elapsed": 4,
     "status": "ok",
     "timestamp": 1681811576188,
     "user": {
      "displayName": "Hachem Madmoun",
      "userId": "01826424375397677797"
     },
     "user_tz": -60
    },
    "id": "5q3m-zV4XHYA",
    "outputId": "88a4e7da-1712-458c-ac86-99f62f5841fc"
   },
   "outputs": [
    {
     "name": "stdout",
     "output_type": "stream",
     "text": [
      "              precision    recall  f1-score   support\n",
      "\n",
      "           0       0.99      1.00      1.00      2889\n",
      "           1       0.98      0.83      0.90       111\n",
      "\n",
      "    accuracy                           0.99      3000\n",
      "   macro avg       0.99      0.91      0.95      3000\n",
      "weighted avg       0.99      0.99      0.99      3000\n",
      "\n"
     ]
    }
   ],
   "source": [
    "# print the classification report\n",
    "print(classification_report(y_test, y_hat_smote))"
   ]
  },
  {
   "cell_type": "markdown",
   "metadata": {
    "id": "nZ-OZd4aW9gV"
   },
   "source": [
    "The **recall** evaluation metric is slightly better. \n",
    "\n"
   ]
  },
  {
   "cell_type": "markdown",
   "metadata": {
    "id": "aOhuR142XmPA"
   },
   "source": [
    "### Adjusting the probability threshold"
   ]
  },
  {
   "cell_type": "markdown",
   "metadata": {
    "id": "lqjBuXr8XuNJ"
   },
   "source": [
    "In order to plot the ROC curve, you will have to install `plot_metric` using the following command line:\n",
    "\n",
    "```\n",
    "!pip install plot_metric\n",
    "```"
   ]
  },
  {
   "cell_type": "code",
   "execution_count": 29,
   "metadata": {
    "colab": {
     "base_uri": "https://localhost:8080/"
    },
    "executionInfo": {
     "elapsed": 4467,
     "status": "ok",
     "timestamp": 1681811580652,
     "user": {
      "displayName": "Hachem Madmoun",
      "userId": "01826424375397677797"
     },
     "user_tz": -60
    },
    "id": "V0SI38AGELzU",
    "outputId": "b2d024d5-a345-414b-9bd9-23caa7fc6b4c"
   },
   "outputs": [
    {
     "name": "stdout",
     "output_type": "stream",
     "text": [
      "Looking in indexes: https://pypi.org/simple, https://us-python.pkg.dev/colab-wheels/public/simple/\n",
      "Collecting plot_metric\n",
      "  Downloading plot_metric-0.0.6-py3-none-any.whl (13 kB)\n",
      "Requirement already satisfied: numpy>=1.15.4 in /usr/local/lib/python3.9/dist-packages (from plot_metric) (1.22.4)\n",
      "Requirement already satisfied: scikit-learn>=0.21.2 in /usr/local/lib/python3.9/dist-packages (from plot_metric) (1.2.2)\n",
      "Requirement already satisfied: scipy>=1.1.0 in /usr/local/lib/python3.9/dist-packages (from plot_metric) (1.10.1)\n",
      "Requirement already satisfied: colorlover>=0.3.0 in /usr/local/lib/python3.9/dist-packages (from plot_metric) (0.3.0)\n",
      "Requirement already satisfied: seaborn>=0.9.0 in /usr/local/lib/python3.9/dist-packages (from plot_metric) (0.12.2)\n",
      "Requirement already satisfied: matplotlib>=3.0.2 in /usr/local/lib/python3.9/dist-packages (from plot_metric) (3.7.1)\n",
      "Requirement already satisfied: pandas>=0.23.4 in /usr/local/lib/python3.9/dist-packages (from plot_metric) (1.5.3)\n",
      "Requirement already satisfied: fonttools>=4.22.0 in /usr/local/lib/python3.9/dist-packages (from matplotlib>=3.0.2->plot_metric) (4.39.3)\n",
      "Requirement already satisfied: cycler>=0.10 in /usr/local/lib/python3.9/dist-packages (from matplotlib>=3.0.2->plot_metric) (0.11.0)\n",
      "Requirement already satisfied: contourpy>=1.0.1 in /usr/local/lib/python3.9/dist-packages (from matplotlib>=3.0.2->plot_metric) (1.0.7)\n",
      "Requirement already satisfied: pillow>=6.2.0 in /usr/local/lib/python3.9/dist-packages (from matplotlib>=3.0.2->plot_metric) (8.4.0)\n",
      "Requirement already satisfied: kiwisolver>=1.0.1 in /usr/local/lib/python3.9/dist-packages (from matplotlib>=3.0.2->plot_metric) (1.4.4)\n",
      "Requirement already satisfied: python-dateutil>=2.7 in /usr/local/lib/python3.9/dist-packages (from matplotlib>=3.0.2->plot_metric) (2.8.2)\n",
      "Requirement already satisfied: packaging>=20.0 in /usr/local/lib/python3.9/dist-packages (from matplotlib>=3.0.2->plot_metric) (23.0)\n",
      "Requirement already satisfied: pyparsing>=2.3.1 in /usr/local/lib/python3.9/dist-packages (from matplotlib>=3.0.2->plot_metric) (3.0.9)\n",
      "Requirement already satisfied: importlib-resources>=3.2.0 in /usr/local/lib/python3.9/dist-packages (from matplotlib>=3.0.2->plot_metric) (5.12.0)\n",
      "Requirement already satisfied: pytz>=2020.1 in /usr/local/lib/python3.9/dist-packages (from pandas>=0.23.4->plot_metric) (2022.7.1)\n",
      "Requirement already satisfied: threadpoolctl>=2.0.0 in /usr/local/lib/python3.9/dist-packages (from scikit-learn>=0.21.2->plot_metric) (3.1.0)\n",
      "Requirement already satisfied: joblib>=1.1.1 in /usr/local/lib/python3.9/dist-packages (from scikit-learn>=0.21.2->plot_metric) (1.2.0)\n",
      "Requirement already satisfied: zipp>=3.1.0 in /usr/local/lib/python3.9/dist-packages (from importlib-resources>=3.2.0->matplotlib>=3.0.2->plot_metric) (3.15.0)\n",
      "Requirement already satisfied: six>=1.5 in /usr/local/lib/python3.9/dist-packages (from python-dateutil>=2.7->matplotlib>=3.0.2->plot_metric) (1.16.0)\n",
      "Installing collected packages: plot_metric\n",
      "Successfully installed plot_metric-0.0.6\n"
     ]
    }
   ],
   "source": [
    "!pip install plot_metric"
   ]
  },
  {
   "cell_type": "markdown",
   "metadata": {
    "id": "S3cTp0iiYCyl"
   },
   "source": [
    "---\n",
    "<font color=green>Q15:</font>\n",
    "<br><font color='green'>\n",
    "Plot the ROC curve using `BinaryClassification` from `plot_metric.functions`\n",
    "</font>\n",
    "\n",
    "---\n"
   ]
  },
  {
   "cell_type": "code",
   "execution_count": 55,
   "metadata": {
    "colab": {
     "base_uri": "https://localhost:8080/",
     "height": 564
    },
    "executionInfo": {
     "elapsed": 422,
     "status": "ok",
     "timestamp": 1681811581070,
     "user": {
      "displayName": "Hachem Madmoun",
      "userId": "01826424375397677797"
     },
     "user_tz": -60
    },
    "id": "qVv7L7lYEL9A",
    "outputId": "77b67e69-8afd-4981-d5ab-19852cf11af8"
   },
   "outputs": [
    {
     "data": {
      "image/png": "[encoded data removed]",
      "text/plain": [
       "<Figure size 720x432 with 1 Axes>"
      ]
     },
     "metadata": {},
     "output_type": "display_data"
    }
   ],
   "source": [
    "# Import module\n",
    "from plot_metric.functions import BinaryClassification\n",
    "\n",
    "# Plot the ROC curve\n",
    "bc = BinaryClassification(y_test, rf_smote.predict_proba(X_test)[:, 1], labels=[0, 1])\n",
    "plt.figure(figsize=(10, 6))\n",
    "bc.plot_roc_curve()\n",
    "plt.show()"
   ]
  },
  {
   "cell_type": "markdown",
   "metadata": {
    "id": "UEiL6Id-ZCaa"
   },
   "source": [
    "---\n",
    "<font color=green>Q16:</font>\n",
    "<br><font color='green'>\n",
    "Let us fix an objective recall of 0.9. By decreasing the threshold progressively from 1 to 0, determine the maximum threshold for which we can have a recall of 0.9, called `best_threshold`\n",
    "</font>\n",
    "\n",
    "---\n"
   ]
  },
  {
   "cell_type": "code",
   "execution_count": 56,
   "metadata": {
    "colab": {
     "base_uri": "https://localhost:8080/"
    },
    "executionInfo": {
     "elapsed": 190,
     "status": "ok",
     "timestamp": 1681811581255,
     "user": {
      "displayName": "Hachem Madmoun",
      "userId": "01826424375397677797"
     },
     "user_tz": -60
    },
    "id": "srCThYfBEL_m",
    "outputId": "2160f1eb-6535-48dd-a5f3-9bf600f36863"
   },
   "outputs": [
    {
     "name": "stdout",
     "output_type": "stream",
     "text": [
      "The best Threshold is 0.04...The best recall is 0.963963963963964\n"
     ]
    }
   ],
   "source": [
    "# Let us find the threshold with the highest recall\n",
    "from sklearn.metrics import recall_score\n",
    "# Calculate the prediction scores y_hat_proba associated with X_test\n",
    "y_hat_proba = rf_smote.predict_proba(X_test)[:, 1]\n",
    "\n",
    "# The objective recall\n",
    "OBJECTIVE_RECALL = 0.95\n",
    "\n",
    "# Initialize the best threshold to 0.5\n",
    "best_threshold = 0.5\n",
    "# Calculate the binary prediction y_hat associated with the threshold 0.5\n",
    "y_hat = (y_hat_proba > best_threshold)\n",
    "# Calculate the recall associated with the threshold 0.5\n",
    "best_recall = recall_score(y_test, y_hat)\n",
    "\n",
    "# Find the best threshold \n",
    "for th in np.arange(0.01, 1, 0.01)[::-1]:\n",
    "  # Calculate the binary prediction y_hat associated with the threshold th\n",
    "  y_pred = (y_hat_proba > th)\n",
    "  recall = recall_score(y_test, y_pred)\n",
    "  if recall > OBJECTIVE_RECALL:\n",
    "    best_recall = recall\n",
    "    best_threshold = th\n",
    "    break\n",
    "print(\"The best Threshold is {}...The best recall is {}\".format(best_threshold, best_recall))"
   ]
  },
  {
   "cell_type": "markdown",
   "metadata": {
    "id": "hrMLrgRca6pK"
   },
   "source": [
    "---\n",
    "<font color=green>Q17:</font>\n",
    "<br><font color='green'>\n",
    "Plot the ROC curve and show the point with the coordinated (FPR(best_threshold), TPR(best_treshold)). \n",
    "</font>\n",
    "\n",
    "---"
   ]
  },
  {
   "cell_type": "code",
   "execution_count": 57,
   "metadata": {
    "colab": {
     "base_uri": "https://localhost:8080/",
     "height": 564
    },
    "executionInfo": {
     "elapsed": 933,
     "status": "ok",
     "timestamp": 1681811582187,
     "user": {
      "displayName": "Hachem Madmoun",
      "userId": "01826424375397677797"
     },
     "user_tz": -60
    },
    "id": "iYuTmBudEMRO",
    "outputId": "98343b51-f27e-444c-e870-020c211dac83"
   },
   "outputs": [
    {
     "data": {
      "image/png": "[encoded data removed]",
      "text/plain": [
       "<Figure size 720x432 with 1 Axes>"
      ]
     },
     "metadata": {},
     "output_type": "display_data"
    }
   ],
   "source": [
    "# let's use another probability threshold so that we can get to the elbow position in the above curve\n",
    "bc = BinaryClassification(y_test, rf_smote.predict_proba(X_test)[:, 1], threshold=best_threshold, labels = [0, 1])\n",
    "plt.figure(figsize=(10, 6))\n",
    "bc.plot_roc_curve()\n",
    "plt.show()"
   ]
  },
  {
   "cell_type": "markdown",
   "metadata": {
    "id": "VYkh4XzJbxXR"
   },
   "source": [
    "---\n",
    "<font color=green>Q18:</font>\n",
    "<br><font color='green'>\n",
    "* Plot the confusion matrix associated with `best_threshold`\n",
    "* Print the evaluation metrics associated with `best_threshold` \n",
    "</font>\n",
    "\n",
    "---\n"
   ]
  },
  {
   "cell_type": "code",
   "execution_count": 58,
   "metadata": {
    "executionInfo": {
     "elapsed": 10,
     "status": "ok",
     "timestamp": 1681811582188,
     "user": {
      "displayName": "Hachem Madmoun",
      "userId": "01826424375397677797"
     },
     "user_tz": -60
    },
    "id": "rKY68pOZCfmu"
   },
   "outputs": [],
   "source": [
    "# Calculate the prediction scores y_hat_proba associated with X_test\n",
    "y_hat_proba = rf_smote.predict_proba(X_test)[:, 1]"
   ]
  },
  {
   "cell_type": "code",
   "execution_count": 59,
   "metadata": {
    "executionInfo": {
     "elapsed": 9,
     "status": "ok",
     "timestamp": 1681811582188,
     "user": {
      "displayName": "Hachem Madmoun",
      "userId": "01826424375397677797"
     },
     "user_tz": -60
    },
    "id": "ZcXHq2biCn3D"
   },
   "outputs": [],
   "source": [
    "# Calculate the binary prediction y_hat associated with the threshold th\n",
    "y_hat = (y_hat_proba >= best_threshold)"
   ]
  },
  {
   "cell_type": "code",
   "execution_count": 60,
   "metadata": {
    "colab": {
     "base_uri": "https://localhost:8080/",
     "height": 718
    },
    "executionInfo": {
     "elapsed": 530,
     "status": "ok",
     "timestamp": 1681811582710,
     "user": {
      "displayName": "Hachem Madmoun",
      "userId": "01826424375397677797"
     },
     "user_tz": -60
    },
    "id": "745o8G5DCprX",
    "outputId": "27588d83-736b-4f5c-8e60-509a9ec6520a"
   },
   "outputs": [
    {
     "data": {
      "image/png": "[encoded data removed]",
      "text/plain": [
       "<Figure size 720x576 with 2 Axes>"
      ]
     },
     "metadata": {},
     "output_type": "display_data"
    }
   ],
   "source": [
    "# plot the confusion matrix\n",
    "fig = plt.figure(figsize=(10, 8))\n",
    "g = sns.heatmap(confusion_matrix(y_test, y_hat),\n",
    "            annot=True,\n",
    "            fmt=\"0.0f\")\n",
    "g.set_xlabel(\"Predicted\")\n",
    "g.set_ylabel(\"Actual\")\n",
    "g.set_title(\"Confusion Matrix on the test set\")\n",
    "plt.show()"
   ]
  },
  {
   "cell_type": "code",
   "execution_count": 36,
   "metadata": {
    "executionInfo": {
     "elapsed": 6,
     "status": "ok",
     "timestamp": 1681811582710,
     "user": {
      "displayName": "Hachem Madmoun",
      "userId": "01826424375397677797"
     },
     "user_tz": -60
    },
    "id": "Sgt21DQ2gf0k"
   },
   "outputs": [],
   "source": []
  },
  {
   "cell_type": "code",
   "execution_count": 61,
   "metadata": {
    "colab": {
     "base_uri": "https://localhost:8080/"
    },
    "executionInfo": {
     "elapsed": 6,
     "status": "ok",
     "timestamp": 1681811582710,
     "user": {
      "displayName": "Hachem Madmoun",
      "userId": "01826424375397677797"
     },
     "user_tz": -60
    },
    "id": "uvQ4-LDJCrGz",
    "outputId": "c624bba0-9d5a-4e78-a1d3-1f0184be85f3"
   },
   "outputs": [
    {
     "name": "stdout",
     "output_type": "stream",
     "text": [
      "              precision    recall  f1-score   support\n",
      "\n",
      "           0       1.00      0.76      0.86      2889\n",
      "           1       0.13      0.96      0.23       111\n",
      "\n",
      "    accuracy                           0.76      3000\n",
      "   macro avg       0.56      0.86      0.55      3000\n",
      "weighted avg       0.97      0.76      0.84      3000\n",
      "\n"
     ]
    }
   ],
   "source": [
    "# print the classification report\n",
    "print(classification_report(y_test, y_hat))"
   ]
  },
  {
   "cell_type": "markdown",
   "metadata": {
    "id": "yuT132sYIjln"
   },
   "source": [
    "# Wrap-up\n",
    "\n",
    "During this session we learned:\n",
    "* How to load and explore a dataframe.\n",
    "* What are the most suitable evaluation metrics in the case of an imbalanced dataset, especially the recall and the AUC.\n",
    "* Resampling techniques including the SMOTE method.\n",
    "* How to adjust the probability threshold so that it matches the objective error of a business problem."
   ]
  },
  {
   "cell_type": "markdown",
   "metadata": {
    "id": "T_I-tM9dK3dY"
   },
   "source": [
    "### Contact\n",
    "\n",
    "If you have any question regarding this notebook, do not hesitate to contact: h.madmoun@imperial.ac.uk\n",
    "\n"
   ]
  }
 ],
 "metadata": {
  "colab": {
   "authorship_tag": "ABX9TyNVEtKp9iTTe5TGmIGkzGQP",
   "provenance": []
  },
  "kernelspec": {
   "display_name": "Python 3 (ipykernel)",
   "language": "python",
   "name": "python3"
  },
  "language_info": {
   "codemirror_mode": {
    "name": "ipython",
    "version": 3
   },
   "file_extension": ".py",
   "mimetype": "text/x-python",
   "name": "python",
   "nbconvert_exporter": "python",
   "pygments_lexer": "ipython3",
   "version": "3.9.12"
  }
 },
 "nbformat": 4,
 "nbformat_minor": 1
}
