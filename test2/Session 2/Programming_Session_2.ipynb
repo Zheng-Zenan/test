{
 "cells": [
  {
   "cell_type": "markdown",
   "metadata": {
    "id": "eHz_knk-QXx0"
   },
   "source": [
    "# **<center>Machine Learning and Finance </center>**\n",
    "\n",
    "\n",
    "## <center> Programming Session 2 - Linear Regression / Logistic Regression </center>\n",
    "\n",
    "<table class=\"tfo-notebook-buttons\" align=\"center\">\n",
    "  <td>\n",
    "    <a target=\"_blank\" href=\"https://hm-ai.github.io/MLF/\">\n",
    "    <img src=\"https://drive.google.com/uc?export=view&id=1gmxxmwCR1WXK0IYtNqvE4QXFleznWqQO\" height=\"50\"/>\n",
    "    Course page</a>\n",
    "</td>\n",
    "  <td>\n",
    "    <a target=\"_blank\" href=\"https://colab.research.google.com/drive/1kutJ21bQ5N-vkiCnaqVSPgFIrVxuakoy?usp=sharing\"><img src=\"https://www.tensorflow.org/images/colab_logo_32px.png\" height=\"50\" />Run in Google Colab</a>\n",
    "  </td>\n",
    "</table>"
   ]
  },
  {
   "cell_type": "markdown",
   "metadata": {
    "id": "KnF-d0DrQ36C"
   },
   "source": [
    "Outline \n",
    "\n",
    "- [Linear Regression](#Linear-Regression)\n",
    "  - [Create Fake Data](#Create-Fake-Data)\n",
    "  - [Solve the Linear Regression problem using Normal equation](#Solve-the-Linear-Regression-problem-using-Normal-equation)\n",
    "  - [Solve the Linear Regression problem using Gradient Descent in numpy](#Solve-the-Linear-Regression-problem-using-Gradient-Descent-in-numpy)\n",
    "- [Logistic Regression](#Logistic-Regression)\n",
    "  - [Load the Iris Dataset](#Load-the-Iris-Dataset)\n",
    "  - [Gradient Descent in numpy](#Gradient-Descent-in-numpy)\n",
    "- [Summary](#Summary)"
   ]
  },
  {
   "cell_type": "markdown",
   "metadata": {
    "id": "8gWsmPmgfRjU"
   },
   "source": [
    "# Linear Regression\n"
   ]
  },
  {
   "cell_type": "code",
   "execution_count": 2,
   "metadata": {
    "id": "OajxICEJQpP9"
   },
   "outputs": [],
   "source": [
    "# Import Modules\n",
    "import numpy as np # to manipulate arrays\n",
    "import matplotlib.pyplot as plt # to plot data\n",
    "#plt.style.use('dark_background') # to adapt the colors to a dark background"
   ]
  },
  {
   "cell_type": "markdown",
   "metadata": {
    "id": "wBGdkTfGqTxJ"
   },
   "source": [
    "## Create Fake Data"
   ]
  },
  {
   "cell_type": "markdown",
   "metadata": {
    "id": "ALxpG4_ai3nE"
   },
   "source": [
    "\n",
    "---\n",
    "<font color=green>Q1:</font>\n",
    "<br><font color='green'>\n",
    "Let's create a fake dataset. We try to predict the salary of an employee based on the number of years of experience.\n",
    "</font>\n",
    "\n",
    "---"
   ]
  },
  {
   "cell_type": "code",
   "execution_count": 4,
   "metadata": {
    "id": "_MKpjn7xQph0"
   },
   "outputs": [],
   "source": [
    "N = 100 # number of samples\n",
    "D = 1 # dimensionality of data \n",
    "\n",
    "np.random.seed(0) # fix the seed to generate the same samples eveytime we run the cell\n",
    "# Generate fake X\n",
    "### Start code ###\n",
    "X = np.random.randn(N, D)*4 + 20\n",
    "### End code ###\n",
    "\n",
    "true_W = 0.5 # first parameter\n",
    "true_b = 0.7 # second parameter\n",
    "\n",
    "\n",
    "# Generate fake Y\n",
    "### Start code ###\n",
    "Y = X.dot(true_W) + true_b + np.random.randn(N, 1)\n",
    "### End code ###"
   ]
  },
  {
   "cell_type": "markdown",
   "metadata": {
    "id": "ND9QYULnjf94"
   },
   "source": [
    "\n",
    "---\n",
    "<font color=green>Q2:</font>\n",
    "<br><font color='green'>\n",
    "Plot the fake data\n",
    "</font>\n",
    "\n",
    "---"
   ]
  },
  {
   "cell_type": "code",
   "execution_count": 9,
   "metadata": {
    "colab": {
     "base_uri": "https://localhost:8080/",
     "height": 472
    },
    "executionInfo": {
     "elapsed": 350,
     "status": "ok",
     "timestamp": 1682031650269,
     "user": {
      "displayName": "Hachem Madmoun",
      "userId": "01826424375397677797"
     },
     "user_tz": -60
    },
    "id": "Z7-mCB2xQpqq",
    "outputId": "bf841eba-41b4-49d0-a9e9-62901388f9fc"
   },
   "outputs": [
    {
     "data": {
      "image/png": "[encoded data removed]",
      "text/plain": [
       "<Figure size 432x288 with 1 Axes>"
      ]
     },
     "metadata": {
      "needs_background": "light"
     },
     "output_type": "display_data"
    }
   ],
   "source": [
    "# scatter plot\n",
    "plt.scatter(X, Y)\n",
    "plt.xlabel(\"Years of Experience\")\n",
    "plt.ylabel(\"Salary (in millions of €)\")\n",
    "plt.title(\"Fake dataset for Linear Regression\")\n",
    "plt.show()"
   ]
  },
  {
   "cell_type": "markdown",
   "metadata": {
    "id": "KVnjknGJj4UV"
   },
   "source": [
    " \n",
    "\n",
    "---\n",
    "<font color=green>Q3:</font>\n",
    "<br><font color='green'>\n",
    "Show the best line used to create the fake data\n",
    "</font>\n",
    "\n",
    "---"
   ]
  },
  {
   "cell_type": "code",
   "execution_count": 19,
   "metadata": {
    "colab": {
     "base_uri": "https://localhost:8080/",
     "height": 472
    },
    "executionInfo": {
     "elapsed": 653,
     "status": "ok",
     "timestamp": 1682031650919,
     "user": {
      "displayName": "Hachem Madmoun",
      "userId": "01826424375397677797"
     },
     "user_tz": -60
    },
    "id": "_Ax9hdOoQpy0",
    "outputId": "51e5d22b-f28f-40e0-9ec0-4baa267a23d7"
   },
   "outputs": [
    {
     "data": {
      "text/plain": [
       "Text(0.5, 1.0, 'The fake data and the true line')"
      ]
     },
     "execution_count": 19,
     "metadata": {},
     "output_type": "execute_result"
    },
    {
     "data": {
      "image/png": "[encoded data removed]",
      "text/plain": [
       "<Figure size 432x288 with 1 Axes>"
      ]
     },
     "metadata": {
      "needs_background": "light"
     },
     "output_type": "display_data"
    }
   ],
   "source": [
    "# Predicted target: Y_hat = X true_W + true_b\n",
    "Y_hat = X.dot(true_W) + true_b \n",
    "# scatter plot\n",
    "plt.scatter(X, Y)\n",
    "plt.plot(X, Y_hat, c=\"r\")\n",
    "plt.title(\"The fake data and the true line\")"
   ]
  },
  {
   "cell_type": "markdown",
   "metadata": {
    "id": "YQ4az6gCkulu"
   },
   "source": [
    "\n",
    "\n",
    "---\n",
    "<font color=green>Q4:</font>\n",
    "<br><font color='green'>\n",
    "Let's perform the change of variable:\n",
    "</font>\n",
    "\n",
    "---"
   ]
  },
  {
   "cell_type": "markdown",
   "metadata": {
    "id": "kuTv99bP8SMX"
   },
   "source": [
    "<center><img width=\"700\" src = \"https://drive.google.com/uc?export=view&id=11uenRL0GgXIl_4-0Bzi0jcyG_8PVl9Ug\"></center>"
   ]
  },
  {
   "cell_type": "code",
   "execution_count": 15,
   "metadata": {
    "colab": {
     "base_uri": "https://localhost:8080/"
    },
    "executionInfo": {
     "elapsed": 6,
     "status": "ok",
     "timestamp": 1682031650919,
     "user": {
      "displayName": "Hachem Madmoun",
      "userId": "01826424375397677797"
     },
     "user_tz": -60
    },
    "id": "w_A6MKIQ4zD2",
    "outputId": "d8a7c577-c58a-401b-ee9f-7d9627c60a43"
   },
   "outputs": [],
   "source": [
    "X.shape\n",
    "np.repeat(1, N)[:, None].shape # (N, 1) and not (N,)\n",
    "# concatenate X (N, D) with the matrix of ones of shape (N, 1) ----> (N, D+1)\n",
    "X_hat = np.concatenate((X, np.repeat(1, N)[:, None]), axis=1)"
   ]
  },
  {
   "cell_type": "markdown",
   "metadata": {
    "id": "hRI3aE4Lk4ut"
   },
   "source": [
    "## Solve the Linear Regression problem using Normal equation"
   ]
  },
  {
   "cell_type": "markdown",
   "metadata": {
    "id": "GvtOR3J2u9e8"
   },
   "source": [
    "Loss and Gradient expressions:"
   ]
  },
  {
   "cell_type": "markdown",
   "metadata": {
    "id": "xfsPwmC08g1Z"
   },
   "source": [
    "<center><img width=\"500\" src = \"https://drive.google.com/uc?export=view&id=1t9zKI1ohGwJTzA4ir4De2ypMVO2vdmLQ\"></center>"
   ]
  },
  {
   "cell_type": "markdown",
   "metadata": {
    "id": "1XGL0LlSvC5w"
   },
   "source": [
    "* By setting the gradient to zero. We obtain the following equation, called the **Normal Equation**:\n",
    "\\begin{equation}\n",
    "\\hat{X}^T \\hat{X} \\hat{w} =  \\hat{X}^T Y\n",
    "\\end{equation}\n",
    "\n",
    "* If $\\hat{X}^T \\hat{X}$ is invertible, the optimal $\\hat{w}^*$  is given by the following equation:\n",
    "\n",
    "\\begin{equation}\n",
    "\\hat{w}^* = (\\hat{X}^T \\hat{X})^{-1} \\hat{X}^T Y\n",
    "\\end{equation}"
   ]
  },
  {
   "cell_type": "markdown",
   "metadata": {
    "id": "p0QkjP3pvi0j"
   },
   "source": [
    "\n",
    "\n",
    "---\n",
    "<font color=green>Q5:</font>\n",
    "<br><font color='green'>\n",
    "Calculate $\\hat{w}^*$ \n",
    "</font>\n",
    "\n",
    "---"
   ]
  },
  {
   "cell_type": "code",
   "execution_count": 20,
   "metadata": {
    "id": "L32a0xkDQp5C"
   },
   "outputs": [],
   "source": [
    "W_hat_optimal = np.linalg.inv(X_hat.T.dot(X_hat)).dot(X_hat.T.dot(Y))"
   ]
  },
  {
   "cell_type": "code",
   "execution_count": 21,
   "metadata": {
    "colab": {
     "base_uri": "https://localhost:8080/"
    },
    "executionInfo": {
     "elapsed": 2,
     "status": "ok",
     "timestamp": 1682031650919,
     "user": {
      "displayName": "Hachem Madmoun",
      "userId": "01826424375397677797"
     },
     "user_tz": -60
    },
    "id": "Zmsrzx_l5rGD",
    "outputId": "21074d12-7fd5-4318-aae2-a1c9221b1c8d"
   },
   "outputs": [
    {
     "data": {
      "text/plain": [
       "array([[0.52867461],\n",
       "       [0.20166092]])"
      ]
     },
     "execution_count": 21,
     "metadata": {},
     "output_type": "execute_result"
    }
   ],
   "source": [
    "W_hat_optimal"
   ]
  },
  {
   "cell_type": "markdown",
   "metadata": {
    "id": "QQFzj44Tk-rQ"
   },
   "source": [
    "\n",
    "\n",
    "\n",
    "---\n",
    "<font color=green>Q6:</font>\n",
    "<br><font color='green'>\n",
    "Show the fitted line after solving the normal equation\n",
    "\n",
    "</font>\n",
    "\n",
    "---"
   ]
  },
  {
   "cell_type": "code",
   "execution_count": 23,
   "metadata": {
    "colab": {
     "base_uri": "https://localhost:8080/",
     "height": 472
    },
    "executionInfo": {
     "elapsed": 1136,
     "status": "ok",
     "timestamp": 1682031652053,
     "user": {
      "displayName": "Hachem Madmoun",
      "userId": "01826424375397677797"
     },
     "user_tz": -60
    },
    "id": "v5t_L-iMQpo0",
    "outputId": "25b93b09-d035-42b9-8c19-6c52820bf5cf"
   },
   "outputs": [
    {
     "data": {
      "text/plain": [
       "Text(0.5, 1.0, 'The fake data and the true line')"
      ]
     },
     "execution_count": 23,
     "metadata": {},
     "output_type": "execute_result"
    },
    {
     "data": {
      "image/png": "[encoded data removed]",
      "text/plain": [
       "<Figure size 432x288 with 1 Axes>"
      ]
     },
     "metadata": {
      "needs_background": "light"
     },
     "output_type": "display_data"
    }
   ],
   "source": [
    "# Predicted target:\n",
    "Y_hat = X_hat.dot(W_hat_optimal) \n",
    "# scatter plot\n",
    "plt.scatter(X, Y)\n",
    "plt.plot(X, Y_hat, c=\"r\")\n",
    "plt.title(\"The fake data and the true line\")"
   ]
  },
  {
   "cell_type": "markdown",
   "metadata": {
    "id": "9mLEm0YEmGCN"
   },
   "source": [
    "## Solve the Linear Regression problem using Gradient Descent in numpy"
   ]
  },
  {
   "cell_type": "markdown",
   "metadata": {
    "id": "juA1BnZg8i5P"
   },
   "source": [
    "<center><img width=\"700\" src = \"https://drive.google.com/uc?export=view&id=10YjrbBSmNh910jcnkKiUVccPVQCKFbPU\"></center>"
   ]
  },
  {
   "cell_type": "markdown",
   "metadata": {
    "id": "l-dTTgdB-Tv5"
   },
   "source": [
    " \n",
    "---\n",
    "<font color=green>Q7:</font>\n",
    "<br><font color='green'>\n",
    "Perform the optimization using gradient descent\n",
    "\n",
    "</font>\n",
    "\n",
    "---"
   ]
  },
  {
   "cell_type": "code",
   "execution_count": 27,
   "metadata": {
    "id": "OamyxbIpQpl9"
   },
   "outputs": [
    {
     "data": {
      "image/png": "[encoded data removed]",
      "text/plain": [
       "<Figure size 432x288 with 1 Axes>"
      ]
     },
     "metadata": {
      "needs_background": "light"
     },
     "output_type": "display_data"
    }
   ],
   "source": [
    "max_iter = 10\n",
    "eta = 0.001\n",
    "\n",
    "losses = []\n",
    "W_hat = np.random.randn(D+1, 1)\n",
    "for i in range(max_iter):\n",
    "    P = X_hat.dot(W_hat)\n",
    "    loss = 1 / N * ((Y - P).T.dot(Y - P))\n",
    "    grad_W_hat = (2 / N) * (X_hat.T.dot(P) - X_hat.T.dot(Y))\n",
    "    W_hat -= eta * grad_W_hat\n",
    "    losses.append(float(loss))\n",
    "\n",
    "plt.plot(losses)\n",
    "plt.xlabel(\"Iteration\")\n",
    "plt.ylabel(\"Loss\")\n",
    "plt.title(\"Gradient Descent in Numpy\")\n",
    "plt.show()"
   ]
  },
  {
   "cell_type": "markdown",
   "metadata": {
    "id": "qumtHTMkmflc"
   },
   "source": [
    " \n",
    "\n",
    "---\n",
    "<font color=green>Q8:</font>\n",
    "<br><font color='green'>\n",
    "Plot the losses\n",
    "</font>\n",
    "\n",
    "---"
   ]
  },
  {
   "cell_type": "code",
   "execution_count": null,
   "metadata": {
    "colab": {
     "base_uri": "https://localhost:8080/",
     "height": 472
    },
    "executionInfo": {
     "elapsed": 1111,
     "status": "ok",
     "timestamp": 1682031653163,
     "user": {
      "displayName": "Hachem Madmoun",
      "userId": "01826424375397677797"
     },
     "user_tz": -60
    },
    "id": "OGxn36HTQpOY",
    "outputId": "8bc5736f-d00e-4c8b-ff22-98ab67e5ba20"
   },
   "outputs": [
    {
     "data": {
      "image/png": "[encoded data removed]",
      "text/plain": [
       "<Figure size 640x480 with 1 Axes>"
      ]
     },
     "metadata": {},
     "output_type": "display_data"
    }
   ],
   "source": [
    "# plot losses  \n",
    "\n"
   ]
  },
  {
   "cell_type": "markdown",
   "metadata": {
    "id": "IKmWM2pFmz2p"
   },
   "source": [
    "\n",
    "\n",
    "---\n",
    "<font color=green>Q9:</font>\n",
    "<br><font color='green'>\n",
    "Show the fitted line after the gradient descent algorithm\n",
    "</font>\n",
    "\n",
    "---"
   ]
  },
  {
   "cell_type": "code",
   "execution_count": null,
   "metadata": {
    "colab": {
     "base_uri": "https://localhost:8080/",
     "height": 472
    },
    "executionInfo": {
     "elapsed": 2155,
     "status": "ok",
     "timestamp": 1682031655317,
     "user": {
      "displayName": "Hachem Madmoun",
      "userId": "01826424375397677797"
     },
     "user_tz": -60
    },
    "id": "yFLYKlb0QpKg",
    "outputId": "c76c0ef6-99ba-44e0-f528-64a155f368c8"
   },
   "outputs": [
    {
     "data": {
      "image/png": "[encoded data removed]",
      "text/plain": [
       "<Figure size 640x480 with 1 Axes>"
      ]
     },
     "metadata": {},
     "output_type": "display_data"
    }
   ],
   "source": [
    "# Predicted target:\n"
   ]
  },
  {
   "cell_type": "markdown",
   "metadata": {
    "id": "2VF1hD3npmj5"
   },
   "source": [
    "# Logistic Regression "
   ]
  },
  {
   "cell_type": "code",
   "execution_count": null,
   "metadata": {
    "id": "7R-hrlcbQW8n"
   },
   "outputs": [],
   "source": [
    "# Import Modules\n",
    "from sklearn import datasets # import iris dataset from sklearn\n",
    "from scipy.special import expit # for the sigmoid (called expit) function"
   ]
  },
  {
   "cell_type": "markdown",
   "metadata": {
    "id": "yYgGaantq-fR"
   },
   "source": [
    "## Load Iris Dataset"
   ]
  },
  {
   "cell_type": "markdown",
   "metadata": {
    "id": "3CDLCnrT8lDZ"
   },
   "source": [
    "<center><img width=\"700\" src = \"https://drive.google.com/uc?export=view&id=19RdLMhodreCvIOGELgcVcPrxl2AYSnKx\"></center>"
   ]
  },
  {
   "cell_type": "markdown",
   "metadata": {
    "id": "wAfuxbEY-e_1"
   },
   "source": [
    "\n",
    "\n",
    "---\n",
    "<font color=green>Q10:</font>\n",
    "<br><font color='green'>\n",
    " Load the Iris dataset \n",
    "</font>\n",
    "\n",
    "---"
   ]
  },
  {
   "cell_type": "code",
   "execution_count": null,
   "metadata": {
    "id": "brkFeEj4q7I_"
   },
   "outputs": [],
   "source": [
    "iris = datasets.load_iris()\n",
    "X = iris.data[:, [2, 3]]\n",
    "Y = iris.target\n",
    "\n",
    "# keep only the rows for which Y in {0, 1}\n",
    "X = X[Y != 2]\n",
    "Y = Y[Y != 2]"
   ]
  },
  {
   "cell_type": "markdown",
   "metadata": {
    "id": "JKKPIwD3rIRI"
   },
   "source": [
    "\n",
    "\n",
    "---\n",
    "<font color=green>Q11:</font>\n",
    "<br><font color='green'>\n",
    "Plot data\n",
    "</font>\n",
    "\n",
    "---"
   ]
  },
  {
   "cell_type": "code",
   "execution_count": null,
   "metadata": {
    "colab": {
     "base_uri": "https://localhost:8080/",
     "height": 449
    },
    "executionInfo": {
     "elapsed": 5,
     "status": "ok",
     "timestamp": 1682031656744,
     "user": {
      "displayName": "Hachem Madmoun",
      "userId": "01826424375397677797"
     },
     "user_tz": -60
    },
    "id": "w-2QKCoRrJ84",
    "outputId": "03cbd79d-46e2-43b5-88ed-426895eeacb6"
   },
   "outputs": [
    {
     "data": {
      "image/png": "[encoded data removed]",
      "text/plain": [
       "<Figure size 640x480 with 1 Axes>"
      ]
     },
     "metadata": {},
     "output_type": "display_data"
    }
   ],
   "source": [
    "# plot Data\n",
    "\n"
   ]
  },
  {
   "cell_type": "markdown",
   "metadata": {
    "id": "dTy2axUZz26f"
   },
   "source": [
    "\n",
    "\n",
    "\n",
    "---\n",
    "<font color=green>Q12:</font>\n",
    "<br><font color='green'>\n",
    "Print the shape of data\n",
    "</font>\n",
    "\n",
    "---"
   ]
  },
  {
   "cell_type": "code",
   "execution_count": null,
   "metadata": {
    "id": "JkpYi6BQ1C2O"
   },
   "outputs": [],
   "source": [
    "# Shape of data\n"
   ]
  },
  {
   "cell_type": "markdown",
   "metadata": {
    "id": "Lfr0cJ1t2dR-"
   },
   "source": [
    "## Gradient Descent in numpy"
   ]
  },
  {
   "cell_type": "markdown",
   "metadata": {
    "id": "NwhmQ8J3qjK0"
   },
   "source": [
    "Loss and Gradient expressions:"
   ]
  },
  {
   "cell_type": "markdown",
   "metadata": {
    "id": "E5X_CaeE8mlf"
   },
   "source": [
    "<center><img width=\"700\" src = \"https://drive.google.com/uc?export=view&id=1BLIo0z8ZPG0lxBh6qVgo2LSIlLhdEdq6\"></center>"
   ]
  },
  {
   "cell_type": "markdown",
   "metadata": {
    "id": "mSNK42MoqtQ7"
   },
   "source": [
    "Useful Matrices to compute the gradient:"
   ]
  },
  {
   "cell_type": "markdown",
   "metadata": {
    "id": "FsbssDUP8nsB"
   },
   "source": [
    "<center><img width=\"700\" src = \"https://drive.google.com/uc?export=view&id=1CD8-Ob1MnCjKFd-Kr5-9l7cWa1Wf2w06\"></center>"
   ]
  },
  {
   "cell_type": "markdown",
   "metadata": {
    "id": "w7Gi_bfVqtnx"
   },
   "source": [
    "* To compute the gradient of $J$ with respect to $w$, we can use the columns $R_1, \\dots, R_N$ of the final matrix $\\hat{\\epsilon} X$.\n",
    "* The gradient can then be expressed as follows: \n",
    "\\begin{equation}\n",
    "\\nabla_w J(w) = \\frac{1}{N} \\sum_{i=1}^N R_i\n",
    "\\end{equation}\n",
    "* We can then apply the Gradient Descent Algorithm"
   ]
  },
  {
   "cell_type": "markdown",
   "metadata": {
    "id": "LTJRwKrk8o30"
   },
   "source": [
    "<center><img width=\"700\" src = \"https://drive.google.com/uc?export=view&id=104lZd77kIuSfDbH4o3tM50cRmwmqN_B4\"></center>"
   ]
  },
  {
   "cell_type": "markdown",
   "metadata": {
    "id": "6-xG0HBQ1RpL"
   },
   "source": [
    "\n",
    "---\n",
    "<font color=green>Q13:</font>\n",
    "<br><font color='green'>\n",
    "Define the hyperparameters of the Gradient Descent Algorithm\n",
    "</font>\n",
    "\n",
    "---"
   ]
  },
  {
   "cell_type": "code",
   "execution_count": 1,
   "metadata": {
    "executionInfo": {
     "elapsed": 6,
     "status": "ok",
     "timestamp": 1682032970249,
     "user": {
      "displayName": "Hachem Madmoun",
      "userId": "01826424375397677797"
     },
     "user_tz": -60
    },
    "id": "0X5MIUuF1XWm"
   },
   "outputs": [],
   "source": [
    "max_iter = 1000 # number of iterations of gradient descent\n",
    "eta = 0.01 # learning rate for gradient descent "
   ]
  },
  {
   "cell_type": "markdown",
   "metadata": {
    "id": "N_1XtRS51Zji"
   },
   "source": [
    "\n",
    "\n",
    "\n",
    "---\n",
    "<font color=green>Q14:</font>\n",
    "<br><font color='green'>\n",
    "Gradient Descent Algorithm\n",
    "</font>\n",
    "\n",
    "---"
   ]
  },
  {
   "cell_type": "code",
   "execution_count": null,
   "metadata": {
    "id": "VnsTdkgMrczC"
   },
   "outputs": [],
   "source": []
  },
  {
   "cell_type": "markdown",
   "metadata": {
    "id": "nV3ei_sJ1g-M"
   },
   "source": [
    "\n",
    "\n",
    "---\n",
    "<font color=green>Q15:</font>\n",
    "<br><font color='green'>\n",
    "Plot the losses\n",
    "</font>\n",
    "\n",
    "---\n"
   ]
  },
  {
   "cell_type": "code",
   "execution_count": null,
   "metadata": {
    "colab": {
     "base_uri": "https://localhost:8080/",
     "height": 472
    },
    "executionInfo": {
     "elapsed": 1073,
     "status": "ok",
     "timestamp": 1682031657813,
     "user": {
      "displayName": "Hachem Madmoun",
      "userId": "01826424375397677797"
     },
     "user_tz": -60
    },
    "id": "hNkPgNwTrl9p",
    "outputId": "f8d501af-ecaf-4be1-b17c-dd272423d6b4"
   },
   "outputs": [
    {
     "data": {
      "image/png": "[encoded data removed]",
      "text/plain": [
       "<Figure size 640x480 with 1 Axes>"
      ]
     },
     "metadata": {},
     "output_type": "display_data"
    }
   ],
   "source": []
  },
  {
   "cell_type": "markdown",
   "metadata": {
    "id": "ARBav-xY8UKE"
   },
   "source": [
    "# Wrap-up\n",
    "\n",
    "In this lecture you learned how to learn the parameters of a model by applying the gradient descent algorithm.\n",
    "\n",
    "\n",
    "*   Learning the parameters of the Linear Regression Model\n",
    "*   Learning the parameters of the Logistic Regression Model\n",
    "\n"
   ]
  },
  {
   "cell_type": "markdown",
   "metadata": {
    "id": "4LBiiRoE97o5"
   },
   "source": [
    "### Contact\n",
    "\n",
    "If you have any question regarding this notebook, do not hesitate to contact: h.madmoun@imperial.ac.uk"
   ]
  }
 ],
 "metadata": {
  "colab": {
   "authorship_tag": "ABX9TyOOssF8JgNjjFmHuWAOkJNv",
   "provenance": []
  },
  "kernelspec": {
   "display_name": "Python 3 (ipykernel)",
   "language": "python",
   "name": "python3"
  },
  "language_info": {
   "codemirror_mode": {
    "name": "ipython",
    "version": 3
   },
   "file_extension": ".py",
   "mimetype": "text/x-python",
   "name": "python",
   "nbconvert_exporter": "python",
   "pygments_lexer": "ipython3",
   "version": "3.9.12"
  }
 },
 "nbformat": 4,
 "nbformat_minor": 1
}
